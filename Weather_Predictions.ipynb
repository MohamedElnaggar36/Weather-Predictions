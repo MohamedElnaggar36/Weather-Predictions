{
  "cells": [
    {
      "cell_type": "code",
      "execution_count": 1,
      "metadata": {
        "id": "n8qVoLbkYJnP"
      },
      "outputs": [],
      "source": [
        "import numpy as np\n",
        "import pandas as pd\n",
        "import matplotlib.pyplot as plt\n",
        "import seaborn as sns\n",
        "from scipy import stats\n",
        "from sklearn.model_selection import train_test_split\n",
        "from sklearn.metrics import r2_score\n",
        "import warnings\n",
        "warnings.filterwarnings('ignore')"
      ]
    },
    {
      "cell_type": "code",
      "execution_count": 2,
      "metadata": {
        "id": "3qKHRSpFYJnS"
      },
      "outputs": [],
      "source": [
        "data = pd.read_csv('weatherHistory.csv')"
      ]
    },
    {
      "cell_type": "code",
      "execution_count": 3,
      "metadata": {
        "colab": {
          "base_uri": "https://localhost:8080/",
          "height": 789
        },
        "id": "P6Sqvg-RYJnT",
        "outputId": "72d364ac-6c54-42b4-8bcc-ed84b3765cd0"
      },
      "outputs": [
        {
          "data": {
            "text/html": [
              "\n",
              "  <div id=\"df-bb2d32f7-d07b-49e3-9a49-93774e9243fd\">\n",
              "    <div class=\"colab-df-container\">\n",
              "      <div>\n",
              "<style scoped>\n",
              "    .dataframe tbody tr th:only-of-type {\n",
              "        vertical-align: middle;\n",
              "    }\n",
              "\n",
              "    .dataframe tbody tr th {\n",
              "        vertical-align: top;\n",
              "    }\n",
              "\n",
              "    .dataframe thead th {\n",
              "        text-align: right;\n",
              "    }\n",
              "</style>\n",
              "<table border=\"1\" class=\"dataframe\">\n",
              "  <thead>\n",
              "    <tr style=\"text-align: right;\">\n",
              "      <th></th>\n",
              "      <th>Formatted Date</th>\n",
              "      <th>Summary</th>\n",
              "      <th>Precip Type</th>\n",
              "      <th>Temperature (C)</th>\n",
              "      <th>Apparent Temperature (C)</th>\n",
              "      <th>Humidity</th>\n",
              "      <th>Wind Speed (km/h)</th>\n",
              "      <th>Wind Bearing (degrees)</th>\n",
              "      <th>Visibility (km)</th>\n",
              "      <th>Loud Cover</th>\n",
              "      <th>Pressure (millibars)</th>\n",
              "      <th>Daily Summary</th>\n",
              "    </tr>\n",
              "  </thead>\n",
              "  <tbody>\n",
              "    <tr>\n",
              "      <th>0</th>\n",
              "      <td>2006-04-01 00:00:00.000 +0200</td>\n",
              "      <td>Partly Cloudy</td>\n",
              "      <td>rain</td>\n",
              "      <td>9.472222</td>\n",
              "      <td>7.388889</td>\n",
              "      <td>0.89</td>\n",
              "      <td>14.1197</td>\n",
              "      <td>251.0</td>\n",
              "      <td>15.8263</td>\n",
              "      <td>0.0</td>\n",
              "      <td>1015.13</td>\n",
              "      <td>Partly cloudy throughout the day.</td>\n",
              "    </tr>\n",
              "    <tr>\n",
              "      <th>1</th>\n",
              "      <td>2006-04-01 01:00:00.000 +0200</td>\n",
              "      <td>Partly Cloudy</td>\n",
              "      <td>rain</td>\n",
              "      <td>9.355556</td>\n",
              "      <td>7.227778</td>\n",
              "      <td>0.86</td>\n",
              "      <td>14.2646</td>\n",
              "      <td>259.0</td>\n",
              "      <td>15.8263</td>\n",
              "      <td>0.0</td>\n",
              "      <td>1015.63</td>\n",
              "      <td>Partly cloudy throughout the day.</td>\n",
              "    </tr>\n",
              "    <tr>\n",
              "      <th>2</th>\n",
              "      <td>2006-04-01 02:00:00.000 +0200</td>\n",
              "      <td>Mostly Cloudy</td>\n",
              "      <td>rain</td>\n",
              "      <td>9.377778</td>\n",
              "      <td>9.377778</td>\n",
              "      <td>0.89</td>\n",
              "      <td>3.9284</td>\n",
              "      <td>204.0</td>\n",
              "      <td>14.9569</td>\n",
              "      <td>0.0</td>\n",
              "      <td>1015.94</td>\n",
              "      <td>Partly cloudy throughout the day.</td>\n",
              "    </tr>\n",
              "    <tr>\n",
              "      <th>3</th>\n",
              "      <td>2006-04-01 03:00:00.000 +0200</td>\n",
              "      <td>Partly Cloudy</td>\n",
              "      <td>rain</td>\n",
              "      <td>8.288889</td>\n",
              "      <td>5.944444</td>\n",
              "      <td>0.83</td>\n",
              "      <td>14.1036</td>\n",
              "      <td>269.0</td>\n",
              "      <td>15.8263</td>\n",
              "      <td>0.0</td>\n",
              "      <td>1016.41</td>\n",
              "      <td>Partly cloudy throughout the day.</td>\n",
              "    </tr>\n",
              "    <tr>\n",
              "      <th>4</th>\n",
              "      <td>2006-04-01 04:00:00.000 +0200</td>\n",
              "      <td>Mostly Cloudy</td>\n",
              "      <td>rain</td>\n",
              "      <td>8.755556</td>\n",
              "      <td>6.977778</td>\n",
              "      <td>0.83</td>\n",
              "      <td>11.0446</td>\n",
              "      <td>259.0</td>\n",
              "      <td>15.8263</td>\n",
              "      <td>0.0</td>\n",
              "      <td>1016.51</td>\n",
              "      <td>Partly cloudy throughout the day.</td>\n",
              "    </tr>\n",
              "    <tr>\n",
              "      <th>5</th>\n",
              "      <td>2006-04-01 05:00:00.000 +0200</td>\n",
              "      <td>Partly Cloudy</td>\n",
              "      <td>rain</td>\n",
              "      <td>9.222222</td>\n",
              "      <td>7.111111</td>\n",
              "      <td>0.85</td>\n",
              "      <td>13.9587</td>\n",
              "      <td>258.0</td>\n",
              "      <td>14.9569</td>\n",
              "      <td>0.0</td>\n",
              "      <td>1016.66</td>\n",
              "      <td>Partly cloudy throughout the day.</td>\n",
              "    </tr>\n",
              "    <tr>\n",
              "      <th>6</th>\n",
              "      <td>2006-04-01 06:00:00.000 +0200</td>\n",
              "      <td>Partly Cloudy</td>\n",
              "      <td>rain</td>\n",
              "      <td>7.733333</td>\n",
              "      <td>5.522222</td>\n",
              "      <td>0.95</td>\n",
              "      <td>12.3648</td>\n",
              "      <td>259.0</td>\n",
              "      <td>9.9820</td>\n",
              "      <td>0.0</td>\n",
              "      <td>1016.72</td>\n",
              "      <td>Partly cloudy throughout the day.</td>\n",
              "    </tr>\n",
              "    <tr>\n",
              "      <th>7</th>\n",
              "      <td>2006-04-01 07:00:00.000 +0200</td>\n",
              "      <td>Partly Cloudy</td>\n",
              "      <td>rain</td>\n",
              "      <td>8.772222</td>\n",
              "      <td>6.527778</td>\n",
              "      <td>0.89</td>\n",
              "      <td>14.1519</td>\n",
              "      <td>260.0</td>\n",
              "      <td>9.9820</td>\n",
              "      <td>0.0</td>\n",
              "      <td>1016.84</td>\n",
              "      <td>Partly cloudy throughout the day.</td>\n",
              "    </tr>\n",
              "    <tr>\n",
              "      <th>8</th>\n",
              "      <td>2006-04-01 08:00:00.000 +0200</td>\n",
              "      <td>Partly Cloudy</td>\n",
              "      <td>rain</td>\n",
              "      <td>10.822222</td>\n",
              "      <td>10.822222</td>\n",
              "      <td>0.82</td>\n",
              "      <td>11.3183</td>\n",
              "      <td>259.0</td>\n",
              "      <td>9.9820</td>\n",
              "      <td>0.0</td>\n",
              "      <td>1017.37</td>\n",
              "      <td>Partly cloudy throughout the day.</td>\n",
              "    </tr>\n",
              "    <tr>\n",
              "      <th>9</th>\n",
              "      <td>2006-04-01 09:00:00.000 +0200</td>\n",
              "      <td>Partly Cloudy</td>\n",
              "      <td>rain</td>\n",
              "      <td>13.772222</td>\n",
              "      <td>13.772222</td>\n",
              "      <td>0.72</td>\n",
              "      <td>12.5258</td>\n",
              "      <td>279.0</td>\n",
              "      <td>9.9820</td>\n",
              "      <td>0.0</td>\n",
              "      <td>1017.22</td>\n",
              "      <td>Partly cloudy throughout the day.</td>\n",
              "    </tr>\n",
              "  </tbody>\n",
              "</table>\n",
              "</div>\n",
              "      <button class=\"colab-df-convert\" onclick=\"convertToInteractive('df-bb2d32f7-d07b-49e3-9a49-93774e9243fd')\"\n",
              "              title=\"Convert this dataframe to an interactive table.\"\n",
              "              style=\"display:none;\">\n",
              "        \n",
              "  <svg xmlns=\"http://www.w3.org/2000/svg\" height=\"24px\"viewBox=\"0 0 24 24\"\n",
              "       width=\"24px\">\n",
              "    <path d=\"M0 0h24v24H0V0z\" fill=\"none\"/>\n",
              "    <path d=\"M18.56 5.44l.94 2.06.94-2.06 2.06-.94-2.06-.94-.94-2.06-.94 2.06-2.06.94zm-11 1L8.5 8.5l.94-2.06 2.06-.94-2.06-.94L8.5 2.5l-.94 2.06-2.06.94zm10 10l.94 2.06.94-2.06 2.06-.94-2.06-.94-.94-2.06-.94 2.06-2.06.94z\"/><path d=\"M17.41 7.96l-1.37-1.37c-.4-.4-.92-.59-1.43-.59-.52 0-1.04.2-1.43.59L10.3 9.45l-7.72 7.72c-.78.78-.78 2.05 0 2.83L4 21.41c.39.39.9.59 1.41.59.51 0 1.02-.2 1.41-.59l7.78-7.78 2.81-2.81c.8-.78.8-2.07 0-2.86zM5.41 20L4 18.59l7.72-7.72 1.47 1.35L5.41 20z\"/>\n",
              "  </svg>\n",
              "      </button>\n",
              "      \n",
              "  <style>\n",
              "    .colab-df-container {\n",
              "      display:flex;\n",
              "      flex-wrap:wrap;\n",
              "      gap: 12px;\n",
              "    }\n",
              "\n",
              "    .colab-df-convert {\n",
              "      background-color: #E8F0FE;\n",
              "      border: none;\n",
              "      border-radius: 50%;\n",
              "      cursor: pointer;\n",
              "      display: none;\n",
              "      fill: #1967D2;\n",
              "      height: 32px;\n",
              "      padding: 0 0 0 0;\n",
              "      width: 32px;\n",
              "    }\n",
              "\n",
              "    .colab-df-convert:hover {\n",
              "      background-color: #E2EBFA;\n",
              "      box-shadow: 0px 1px 2px rgba(60, 64, 67, 0.3), 0px 1px 3px 1px rgba(60, 64, 67, 0.15);\n",
              "      fill: #174EA6;\n",
              "    }\n",
              "\n",
              "    [theme=dark] .colab-df-convert {\n",
              "      background-color: #3B4455;\n",
              "      fill: #D2E3FC;\n",
              "    }\n",
              "\n",
              "    [theme=dark] .colab-df-convert:hover {\n",
              "      background-color: #434B5C;\n",
              "      box-shadow: 0px 1px 3px 1px rgba(0, 0, 0, 0.15);\n",
              "      filter: drop-shadow(0px 1px 2px rgba(0, 0, 0, 0.3));\n",
              "      fill: #FFFFFF;\n",
              "    }\n",
              "  </style>\n",
              "\n",
              "      <script>\n",
              "        const buttonEl =\n",
              "          document.querySelector('#df-bb2d32f7-d07b-49e3-9a49-93774e9243fd button.colab-df-convert');\n",
              "        buttonEl.style.display =\n",
              "          google.colab.kernel.accessAllowed ? 'block' : 'none';\n",
              "\n",
              "        async function convertToInteractive(key) {\n",
              "          const element = document.querySelector('#df-bb2d32f7-d07b-49e3-9a49-93774e9243fd');\n",
              "          const dataTable =\n",
              "            await google.colab.kernel.invokeFunction('convertToInteractive',\n",
              "                                                     [key], {});\n",
              "          if (!dataTable) return;\n",
              "\n",
              "          const docLinkHtml = 'Like what you see? Visit the ' +\n",
              "            '<a target=\"_blank\" href=https://colab.research.google.com/notebooks/data_table.ipynb>data table notebook</a>'\n",
              "            + ' to learn more about interactive tables.';\n",
              "          element.innerHTML = '';\n",
              "          dataTable['output_type'] = 'display_data';\n",
              "          await google.colab.output.renderOutput(dataTable, element);\n",
              "          const docLink = document.createElement('div');\n",
              "          docLink.innerHTML = docLinkHtml;\n",
              "          element.appendChild(docLink);\n",
              "        }\n",
              "      </script>\n",
              "    </div>\n",
              "  </div>\n",
              "  "
            ],
            "text/plain": [
              "                  Formatted Date        Summary Precip Type  Temperature (C)  \\\n",
              "0  2006-04-01 00:00:00.000 +0200  Partly Cloudy        rain         9.472222   \n",
              "1  2006-04-01 01:00:00.000 +0200  Partly Cloudy        rain         9.355556   \n",
              "2  2006-04-01 02:00:00.000 +0200  Mostly Cloudy        rain         9.377778   \n",
              "3  2006-04-01 03:00:00.000 +0200  Partly Cloudy        rain         8.288889   \n",
              "4  2006-04-01 04:00:00.000 +0200  Mostly Cloudy        rain         8.755556   \n",
              "5  2006-04-01 05:00:00.000 +0200  Partly Cloudy        rain         9.222222   \n",
              "6  2006-04-01 06:00:00.000 +0200  Partly Cloudy        rain         7.733333   \n",
              "7  2006-04-01 07:00:00.000 +0200  Partly Cloudy        rain         8.772222   \n",
              "8  2006-04-01 08:00:00.000 +0200  Partly Cloudy        rain        10.822222   \n",
              "9  2006-04-01 09:00:00.000 +0200  Partly Cloudy        rain        13.772222   \n",
              "\n",
              "   Apparent Temperature (C)  Humidity  Wind Speed (km/h)  \\\n",
              "0                  7.388889      0.89            14.1197   \n",
              "1                  7.227778      0.86            14.2646   \n",
              "2                  9.377778      0.89             3.9284   \n",
              "3                  5.944444      0.83            14.1036   \n",
              "4                  6.977778      0.83            11.0446   \n",
              "5                  7.111111      0.85            13.9587   \n",
              "6                  5.522222      0.95            12.3648   \n",
              "7                  6.527778      0.89            14.1519   \n",
              "8                 10.822222      0.82            11.3183   \n",
              "9                 13.772222      0.72            12.5258   \n",
              "\n",
              "   Wind Bearing (degrees)  Visibility (km)  Loud Cover  Pressure (millibars)  \\\n",
              "0                   251.0          15.8263         0.0               1015.13   \n",
              "1                   259.0          15.8263         0.0               1015.63   \n",
              "2                   204.0          14.9569         0.0               1015.94   \n",
              "3                   269.0          15.8263         0.0               1016.41   \n",
              "4                   259.0          15.8263         0.0               1016.51   \n",
              "5                   258.0          14.9569         0.0               1016.66   \n",
              "6                   259.0           9.9820         0.0               1016.72   \n",
              "7                   260.0           9.9820         0.0               1016.84   \n",
              "8                   259.0           9.9820         0.0               1017.37   \n",
              "9                   279.0           9.9820         0.0               1017.22   \n",
              "\n",
              "                       Daily Summary  \n",
              "0  Partly cloudy throughout the day.  \n",
              "1  Partly cloudy throughout the day.  \n",
              "2  Partly cloudy throughout the day.  \n",
              "3  Partly cloudy throughout the day.  \n",
              "4  Partly cloudy throughout the day.  \n",
              "5  Partly cloudy throughout the day.  \n",
              "6  Partly cloudy throughout the day.  \n",
              "7  Partly cloudy throughout the day.  \n",
              "8  Partly cloudy throughout the day.  \n",
              "9  Partly cloudy throughout the day.  "
            ]
          },
          "execution_count": 3,
          "metadata": {},
          "output_type": "execute_result"
        }
      ],
      "source": [
        "data.head(10)"
      ]
    },
    {
      "cell_type": "code",
      "execution_count": 4,
      "metadata": {
        "colab": {
          "base_uri": "https://localhost:8080/"
        },
        "id": "l75okoxHYJnU",
        "outputId": "7a9b2932-5018-4cd2-ff79-c01bb72f3514"
      },
      "outputs": [
        {
          "name": "stdout",
          "output_type": "stream",
          "text": [
            "<class 'pandas.core.frame.DataFrame'>\n",
            "RangeIndex: 96453 entries, 0 to 96452\n",
            "Data columns (total 12 columns):\n",
            " #   Column                    Non-Null Count  Dtype  \n",
            "---  ------                    --------------  -----  \n",
            " 0   Formatted Date            96453 non-null  object \n",
            " 1   Summary                   96453 non-null  object \n",
            " 2   Precip Type               95936 non-null  object \n",
            " 3   Temperature (C)           96453 non-null  float64\n",
            " 4   Apparent Temperature (C)  96453 non-null  float64\n",
            " 5   Humidity                  96453 non-null  float64\n",
            " 6   Wind Speed (km/h)         96453 non-null  float64\n",
            " 7   Wind Bearing (degrees)    96453 non-null  float64\n",
            " 8   Visibility (km)           96453 non-null  float64\n",
            " 9   Loud Cover                96453 non-null  float64\n",
            " 10  Pressure (millibars)      96453 non-null  float64\n",
            " 11  Daily Summary             96453 non-null  object \n",
            "dtypes: float64(8), object(4)\n",
            "memory usage: 8.8+ MB\n"
          ]
        }
      ],
      "source": [
        "data.info()"
      ]
    },
    {
      "cell_type": "code",
      "execution_count": 5,
      "metadata": {
        "colab": {
          "base_uri": "https://localhost:8080/"
        },
        "id": "QJQ0z0DFYJnV",
        "outputId": "4c59cc0f-40ff-4715-cf75-5bae29f82bab"
      },
      "outputs": [
        {
          "data": {
            "text/plain": [
              "Partly Cloudy                          31733\n",
              "Mostly Cloudy                          28094\n",
              "Overcast                               16597\n",
              "Clear                                  10890\n",
              "Foggy                                   7148\n",
              "Breezy and Overcast                      528\n",
              "Breezy and Mostly Cloudy                 516\n",
              "Breezy and Partly Cloudy                 386\n",
              "Dry and Partly Cloudy                     86\n",
              "Windy and Partly Cloudy                   67\n",
              "Light Rain                                63\n",
              "Breezy                                    54\n",
              "Windy and Overcast                        45\n",
              "Humid and Mostly Cloudy                   40\n",
              "Drizzle                                   39\n",
              "Breezy and Foggy                          35\n",
              "Windy and Mostly Cloudy                   35\n",
              "Dry                                       34\n",
              "Humid and Partly Cloudy                   17\n",
              "Dry and Mostly Cloudy                     14\n",
              "Rain                                      10\n",
              "Windy                                      8\n",
              "Humid and Overcast                         7\n",
              "Windy and Foggy                            4\n",
              "Windy and Dry                              1\n",
              "Dangerously Windy and Partly Cloudy        1\n",
              "Breezy and Dry                             1\n",
              "Name: Summary, dtype: int64"
            ]
          },
          "execution_count": 5,
          "metadata": {},
          "output_type": "execute_result"
        }
      ],
      "source": [
        "data['Summary'].value_counts()"
      ]
    },
    {
      "cell_type": "code",
      "execution_count": 6,
      "metadata": {
        "colab": {
          "base_uri": "https://localhost:8080/"
        },
        "id": "CU1XnPBhYJnV",
        "outputId": "e948da59-d541-4f07-8b0d-97d6dbc29632"
      },
      "outputs": [
        {
          "data": {
            "text/plain": [
              "Mostly cloudy throughout the day.                                                                       20085\n",
              "Partly cloudy throughout the day.                                                                        9981\n",
              "Partly cloudy until night.                                                                               6169\n",
              "Partly cloudy starting in the morning.                                                                   5184\n",
              "Foggy in the morning.                                                                                    4201\n",
              "                                                                                                        ...  \n",
              "Breezy starting overnight continuing until morning and foggy overnight.                                    24\n",
              "Mostly cloudy throughout the day and breezy starting overnight continuing until afternoon.                 24\n",
              "Partly cloudy starting in the morning and breezy starting in the afternoon continuing until evening.       24\n",
              "Rain until afternoon.                                                                                      24\n",
              "Foggy starting overnight continuing until morning and breezy in the afternoon.                             23\n",
              "Name: Daily Summary, Length: 214, dtype: int64"
            ]
          },
          "execution_count": 6,
          "metadata": {},
          "output_type": "execute_result"
        }
      ],
      "source": [
        "data['Daily Summary'].value_counts()"
      ]
    },
    {
      "cell_type": "code",
      "execution_count": 7,
      "metadata": {
        "colab": {
          "base_uri": "https://localhost:8080/",
          "height": 300
        },
        "id": "IvwZ9sgdYJnW",
        "outputId": "5ac5200a-c728-440e-87fa-181f30fdd4f5"
      },
      "outputs": [
        {
          "data": {
            "text/html": [
              "\n",
              "  <div id=\"df-98695111-b8ca-44d9-9e35-382bce580646\">\n",
              "    <div class=\"colab-df-container\">\n",
              "      <div>\n",
              "<style scoped>\n",
              "    .dataframe tbody tr th:only-of-type {\n",
              "        vertical-align: middle;\n",
              "    }\n",
              "\n",
              "    .dataframe tbody tr th {\n",
              "        vertical-align: top;\n",
              "    }\n",
              "\n",
              "    .dataframe thead th {\n",
              "        text-align: right;\n",
              "    }\n",
              "</style>\n",
              "<table border=\"1\" class=\"dataframe\">\n",
              "  <thead>\n",
              "    <tr style=\"text-align: right;\">\n",
              "      <th></th>\n",
              "      <th>count</th>\n",
              "      <th>mean</th>\n",
              "      <th>std</th>\n",
              "      <th>min</th>\n",
              "      <th>25%</th>\n",
              "      <th>50%</th>\n",
              "      <th>75%</th>\n",
              "      <th>max</th>\n",
              "    </tr>\n",
              "  </thead>\n",
              "  <tbody>\n",
              "    <tr>\n",
              "      <th>Temperature (C)</th>\n",
              "      <td>96453.0</td>\n",
              "      <td>11.932678</td>\n",
              "      <td>9.551546</td>\n",
              "      <td>-21.822222</td>\n",
              "      <td>4.688889</td>\n",
              "      <td>12.0000</td>\n",
              "      <td>18.838889</td>\n",
              "      <td>39.905556</td>\n",
              "    </tr>\n",
              "    <tr>\n",
              "      <th>Apparent Temperature (C)</th>\n",
              "      <td>96453.0</td>\n",
              "      <td>10.855029</td>\n",
              "      <td>10.696847</td>\n",
              "      <td>-27.716667</td>\n",
              "      <td>2.311111</td>\n",
              "      <td>12.0000</td>\n",
              "      <td>18.838889</td>\n",
              "      <td>39.344444</td>\n",
              "    </tr>\n",
              "    <tr>\n",
              "      <th>Humidity</th>\n",
              "      <td>96453.0</td>\n",
              "      <td>0.734899</td>\n",
              "      <td>0.195473</td>\n",
              "      <td>0.000000</td>\n",
              "      <td>0.600000</td>\n",
              "      <td>0.7800</td>\n",
              "      <td>0.890000</td>\n",
              "      <td>1.000000</td>\n",
              "    </tr>\n",
              "    <tr>\n",
              "      <th>Wind Speed (km/h)</th>\n",
              "      <td>96453.0</td>\n",
              "      <td>10.810640</td>\n",
              "      <td>6.913571</td>\n",
              "      <td>0.000000</td>\n",
              "      <td>5.828200</td>\n",
              "      <td>9.9659</td>\n",
              "      <td>14.135800</td>\n",
              "      <td>63.852600</td>\n",
              "    </tr>\n",
              "    <tr>\n",
              "      <th>Wind Bearing (degrees)</th>\n",
              "      <td>96453.0</td>\n",
              "      <td>187.509232</td>\n",
              "      <td>107.383428</td>\n",
              "      <td>0.000000</td>\n",
              "      <td>116.000000</td>\n",
              "      <td>180.0000</td>\n",
              "      <td>290.000000</td>\n",
              "      <td>359.000000</td>\n",
              "    </tr>\n",
              "    <tr>\n",
              "      <th>Visibility (km)</th>\n",
              "      <td>96453.0</td>\n",
              "      <td>10.347325</td>\n",
              "      <td>4.192123</td>\n",
              "      <td>0.000000</td>\n",
              "      <td>8.339800</td>\n",
              "      <td>10.0464</td>\n",
              "      <td>14.812000</td>\n",
              "      <td>16.100000</td>\n",
              "    </tr>\n",
              "    <tr>\n",
              "      <th>Loud Cover</th>\n",
              "      <td>96453.0</td>\n",
              "      <td>0.000000</td>\n",
              "      <td>0.000000</td>\n",
              "      <td>0.000000</td>\n",
              "      <td>0.000000</td>\n",
              "      <td>0.0000</td>\n",
              "      <td>0.000000</td>\n",
              "      <td>0.000000</td>\n",
              "    </tr>\n",
              "    <tr>\n",
              "      <th>Pressure (millibars)</th>\n",
              "      <td>96453.0</td>\n",
              "      <td>1003.235956</td>\n",
              "      <td>116.969906</td>\n",
              "      <td>0.000000</td>\n",
              "      <td>1011.900000</td>\n",
              "      <td>1016.4500</td>\n",
              "      <td>1021.090000</td>\n",
              "      <td>1046.380000</td>\n",
              "    </tr>\n",
              "  </tbody>\n",
              "</table>\n",
              "</div>\n",
              "      <button class=\"colab-df-convert\" onclick=\"convertToInteractive('df-98695111-b8ca-44d9-9e35-382bce580646')\"\n",
              "              title=\"Convert this dataframe to an interactive table.\"\n",
              "              style=\"display:none;\">\n",
              "        \n",
              "  <svg xmlns=\"http://www.w3.org/2000/svg\" height=\"24px\"viewBox=\"0 0 24 24\"\n",
              "       width=\"24px\">\n",
              "    <path d=\"M0 0h24v24H0V0z\" fill=\"none\"/>\n",
              "    <path d=\"M18.56 5.44l.94 2.06.94-2.06 2.06-.94-2.06-.94-.94-2.06-.94 2.06-2.06.94zm-11 1L8.5 8.5l.94-2.06 2.06-.94-2.06-.94L8.5 2.5l-.94 2.06-2.06.94zm10 10l.94 2.06.94-2.06 2.06-.94-2.06-.94-.94-2.06-.94 2.06-2.06.94z\"/><path d=\"M17.41 7.96l-1.37-1.37c-.4-.4-.92-.59-1.43-.59-.52 0-1.04.2-1.43.59L10.3 9.45l-7.72 7.72c-.78.78-.78 2.05 0 2.83L4 21.41c.39.39.9.59 1.41.59.51 0 1.02-.2 1.41-.59l7.78-7.78 2.81-2.81c.8-.78.8-2.07 0-2.86zM5.41 20L4 18.59l7.72-7.72 1.47 1.35L5.41 20z\"/>\n",
              "  </svg>\n",
              "      </button>\n",
              "      \n",
              "  <style>\n",
              "    .colab-df-container {\n",
              "      display:flex;\n",
              "      flex-wrap:wrap;\n",
              "      gap: 12px;\n",
              "    }\n",
              "\n",
              "    .colab-df-convert {\n",
              "      background-color: #E8F0FE;\n",
              "      border: none;\n",
              "      border-radius: 50%;\n",
              "      cursor: pointer;\n",
              "      display: none;\n",
              "      fill: #1967D2;\n",
              "      height: 32px;\n",
              "      padding: 0 0 0 0;\n",
              "      width: 32px;\n",
              "    }\n",
              "\n",
              "    .colab-df-convert:hover {\n",
              "      background-color: #E2EBFA;\n",
              "      box-shadow: 0px 1px 2px rgba(60, 64, 67, 0.3), 0px 1px 3px 1px rgba(60, 64, 67, 0.15);\n",
              "      fill: #174EA6;\n",
              "    }\n",
              "\n",
              "    [theme=dark] .colab-df-convert {\n",
              "      background-color: #3B4455;\n",
              "      fill: #D2E3FC;\n",
              "    }\n",
              "\n",
              "    [theme=dark] .colab-df-convert:hover {\n",
              "      background-color: #434B5C;\n",
              "      box-shadow: 0px 1px 3px 1px rgba(0, 0, 0, 0.15);\n",
              "      filter: drop-shadow(0px 1px 2px rgba(0, 0, 0, 0.3));\n",
              "      fill: #FFFFFF;\n",
              "    }\n",
              "  </style>\n",
              "\n",
              "      <script>\n",
              "        const buttonEl =\n",
              "          document.querySelector('#df-98695111-b8ca-44d9-9e35-382bce580646 button.colab-df-convert');\n",
              "        buttonEl.style.display =\n",
              "          google.colab.kernel.accessAllowed ? 'block' : 'none';\n",
              "\n",
              "        async function convertToInteractive(key) {\n",
              "          const element = document.querySelector('#df-98695111-b8ca-44d9-9e35-382bce580646');\n",
              "          const dataTable =\n",
              "            await google.colab.kernel.invokeFunction('convertToInteractive',\n",
              "                                                     [key], {});\n",
              "          if (!dataTable) return;\n",
              "\n",
              "          const docLinkHtml = 'Like what you see? Visit the ' +\n",
              "            '<a target=\"_blank\" href=https://colab.research.google.com/notebooks/data_table.ipynb>data table notebook</a>'\n",
              "            + ' to learn more about interactive tables.';\n",
              "          element.innerHTML = '';\n",
              "          dataTable['output_type'] = 'display_data';\n",
              "          await google.colab.output.renderOutput(dataTable, element);\n",
              "          const docLink = document.createElement('div');\n",
              "          docLink.innerHTML = docLinkHtml;\n",
              "          element.appendChild(docLink);\n",
              "        }\n",
              "      </script>\n",
              "    </div>\n",
              "  </div>\n",
              "  "
            ],
            "text/plain": [
              "                            count         mean         std        min  \\\n",
              "Temperature (C)           96453.0    11.932678    9.551546 -21.822222   \n",
              "Apparent Temperature (C)  96453.0    10.855029   10.696847 -27.716667   \n",
              "Humidity                  96453.0     0.734899    0.195473   0.000000   \n",
              "Wind Speed (km/h)         96453.0    10.810640    6.913571   0.000000   \n",
              "Wind Bearing (degrees)    96453.0   187.509232  107.383428   0.000000   \n",
              "Visibility (km)           96453.0    10.347325    4.192123   0.000000   \n",
              "Loud Cover                96453.0     0.000000    0.000000   0.000000   \n",
              "Pressure (millibars)      96453.0  1003.235956  116.969906   0.000000   \n",
              "\n",
              "                                  25%        50%          75%          max  \n",
              "Temperature (C)              4.688889    12.0000    18.838889    39.905556  \n",
              "Apparent Temperature (C)     2.311111    12.0000    18.838889    39.344444  \n",
              "Humidity                     0.600000     0.7800     0.890000     1.000000  \n",
              "Wind Speed (km/h)            5.828200     9.9659    14.135800    63.852600  \n",
              "Wind Bearing (degrees)     116.000000   180.0000   290.000000   359.000000  \n",
              "Visibility (km)              8.339800    10.0464    14.812000    16.100000  \n",
              "Loud Cover                   0.000000     0.0000     0.000000     0.000000  \n",
              "Pressure (millibars)      1011.900000  1016.4500  1021.090000  1046.380000  "
            ]
          },
          "execution_count": 7,
          "metadata": {},
          "output_type": "execute_result"
        }
      ],
      "source": [
        "data.describe().T"
      ]
    },
    {
      "cell_type": "code",
      "execution_count": 8,
      "metadata": {
        "id": "5WJLqYsYYJnX"
      },
      "outputs": [],
      "source": [
        "data.drop(columns=['Formatted Date', 'Loud Cover', 'Daily Summary'], inplace=True)"
      ]
    },
    {
      "cell_type": "code",
      "execution_count": 9,
      "metadata": {
        "colab": {
          "base_uri": "https://localhost:8080/",
          "height": 302
        },
        "id": "mjGSJunaYJnX",
        "outputId": "72870f46-b6b6-4dea-ac8f-d40ece494169"
      },
      "outputs": [
        {
          "data": {
            "text/html": [
              "\n",
              "  <div id=\"df-209be3ee-9bbc-4e6c-919b-a1b65833df1a\">\n",
              "    <div class=\"colab-df-container\">\n",
              "      <div>\n",
              "<style scoped>\n",
              "    .dataframe tbody tr th:only-of-type {\n",
              "        vertical-align: middle;\n",
              "    }\n",
              "\n",
              "    .dataframe tbody tr th {\n",
              "        vertical-align: top;\n",
              "    }\n",
              "\n",
              "    .dataframe thead th {\n",
              "        text-align: right;\n",
              "    }\n",
              "</style>\n",
              "<table border=\"1\" class=\"dataframe\">\n",
              "  <thead>\n",
              "    <tr style=\"text-align: right;\">\n",
              "      <th></th>\n",
              "      <th>Summary</th>\n",
              "      <th>Precip Type</th>\n",
              "      <th>Temperature (C)</th>\n",
              "      <th>Apparent Temperature (C)</th>\n",
              "      <th>Humidity</th>\n",
              "      <th>Wind Speed (km/h)</th>\n",
              "      <th>Wind Bearing (degrees)</th>\n",
              "      <th>Visibility (km)</th>\n",
              "      <th>Pressure (millibars)</th>\n",
              "    </tr>\n",
              "  </thead>\n",
              "  <tbody>\n",
              "    <tr>\n",
              "      <th>0</th>\n",
              "      <td>Partly Cloudy</td>\n",
              "      <td>rain</td>\n",
              "      <td>9.472222</td>\n",
              "      <td>7.388889</td>\n",
              "      <td>0.89</td>\n",
              "      <td>14.1197</td>\n",
              "      <td>251.0</td>\n",
              "      <td>15.8263</td>\n",
              "      <td>1015.13</td>\n",
              "    </tr>\n",
              "    <tr>\n",
              "      <th>1</th>\n",
              "      <td>Partly Cloudy</td>\n",
              "      <td>rain</td>\n",
              "      <td>9.355556</td>\n",
              "      <td>7.227778</td>\n",
              "      <td>0.86</td>\n",
              "      <td>14.2646</td>\n",
              "      <td>259.0</td>\n",
              "      <td>15.8263</td>\n",
              "      <td>1015.63</td>\n",
              "    </tr>\n",
              "    <tr>\n",
              "      <th>2</th>\n",
              "      <td>Mostly Cloudy</td>\n",
              "      <td>rain</td>\n",
              "      <td>9.377778</td>\n",
              "      <td>9.377778</td>\n",
              "      <td>0.89</td>\n",
              "      <td>3.9284</td>\n",
              "      <td>204.0</td>\n",
              "      <td>14.9569</td>\n",
              "      <td>1015.94</td>\n",
              "    </tr>\n",
              "    <tr>\n",
              "      <th>3</th>\n",
              "      <td>Partly Cloudy</td>\n",
              "      <td>rain</td>\n",
              "      <td>8.288889</td>\n",
              "      <td>5.944444</td>\n",
              "      <td>0.83</td>\n",
              "      <td>14.1036</td>\n",
              "      <td>269.0</td>\n",
              "      <td>15.8263</td>\n",
              "      <td>1016.41</td>\n",
              "    </tr>\n",
              "    <tr>\n",
              "      <th>4</th>\n",
              "      <td>Mostly Cloudy</td>\n",
              "      <td>rain</td>\n",
              "      <td>8.755556</td>\n",
              "      <td>6.977778</td>\n",
              "      <td>0.83</td>\n",
              "      <td>11.0446</td>\n",
              "      <td>259.0</td>\n",
              "      <td>15.8263</td>\n",
              "      <td>1016.51</td>\n",
              "    </tr>\n",
              "  </tbody>\n",
              "</table>\n",
              "</div>\n",
              "      <button class=\"colab-df-convert\" onclick=\"convertToInteractive('df-209be3ee-9bbc-4e6c-919b-a1b65833df1a')\"\n",
              "              title=\"Convert this dataframe to an interactive table.\"\n",
              "              style=\"display:none;\">\n",
              "        \n",
              "  <svg xmlns=\"http://www.w3.org/2000/svg\" height=\"24px\"viewBox=\"0 0 24 24\"\n",
              "       width=\"24px\">\n",
              "    <path d=\"M0 0h24v24H0V0z\" fill=\"none\"/>\n",
              "    <path d=\"M18.56 5.44l.94 2.06.94-2.06 2.06-.94-2.06-.94-.94-2.06-.94 2.06-2.06.94zm-11 1L8.5 8.5l.94-2.06 2.06-.94-2.06-.94L8.5 2.5l-.94 2.06-2.06.94zm10 10l.94 2.06.94-2.06 2.06-.94-2.06-.94-.94-2.06-.94 2.06-2.06.94z\"/><path d=\"M17.41 7.96l-1.37-1.37c-.4-.4-.92-.59-1.43-.59-.52 0-1.04.2-1.43.59L10.3 9.45l-7.72 7.72c-.78.78-.78 2.05 0 2.83L4 21.41c.39.39.9.59 1.41.59.51 0 1.02-.2 1.41-.59l7.78-7.78 2.81-2.81c.8-.78.8-2.07 0-2.86zM5.41 20L4 18.59l7.72-7.72 1.47 1.35L5.41 20z\"/>\n",
              "  </svg>\n",
              "      </button>\n",
              "      \n",
              "  <style>\n",
              "    .colab-df-container {\n",
              "      display:flex;\n",
              "      flex-wrap:wrap;\n",
              "      gap: 12px;\n",
              "    }\n",
              "\n",
              "    .colab-df-convert {\n",
              "      background-color: #E8F0FE;\n",
              "      border: none;\n",
              "      border-radius: 50%;\n",
              "      cursor: pointer;\n",
              "      display: none;\n",
              "      fill: #1967D2;\n",
              "      height: 32px;\n",
              "      padding: 0 0 0 0;\n",
              "      width: 32px;\n",
              "    }\n",
              "\n",
              "    .colab-df-convert:hover {\n",
              "      background-color: #E2EBFA;\n",
              "      box-shadow: 0px 1px 2px rgba(60, 64, 67, 0.3), 0px 1px 3px 1px rgba(60, 64, 67, 0.15);\n",
              "      fill: #174EA6;\n",
              "    }\n",
              "\n",
              "    [theme=dark] .colab-df-convert {\n",
              "      background-color: #3B4455;\n",
              "      fill: #D2E3FC;\n",
              "    }\n",
              "\n",
              "    [theme=dark] .colab-df-convert:hover {\n",
              "      background-color: #434B5C;\n",
              "      box-shadow: 0px 1px 3px 1px rgba(0, 0, 0, 0.15);\n",
              "      filter: drop-shadow(0px 1px 2px rgba(0, 0, 0, 0.3));\n",
              "      fill: #FFFFFF;\n",
              "    }\n",
              "  </style>\n",
              "\n",
              "      <script>\n",
              "        const buttonEl =\n",
              "          document.querySelector('#df-209be3ee-9bbc-4e6c-919b-a1b65833df1a button.colab-df-convert');\n",
              "        buttonEl.style.display =\n",
              "          google.colab.kernel.accessAllowed ? 'block' : 'none';\n",
              "\n",
              "        async function convertToInteractive(key) {\n",
              "          const element = document.querySelector('#df-209be3ee-9bbc-4e6c-919b-a1b65833df1a');\n",
              "          const dataTable =\n",
              "            await google.colab.kernel.invokeFunction('convertToInteractive',\n",
              "                                                     [key], {});\n",
              "          if (!dataTable) return;\n",
              "\n",
              "          const docLinkHtml = 'Like what you see? Visit the ' +\n",
              "            '<a target=\"_blank\" href=https://colab.research.google.com/notebooks/data_table.ipynb>data table notebook</a>'\n",
              "            + ' to learn more about interactive tables.';\n",
              "          element.innerHTML = '';\n",
              "          dataTable['output_type'] = 'display_data';\n",
              "          await google.colab.output.renderOutput(dataTable, element);\n",
              "          const docLink = document.createElement('div');\n",
              "          docLink.innerHTML = docLinkHtml;\n",
              "          element.appendChild(docLink);\n",
              "        }\n",
              "      </script>\n",
              "    </div>\n",
              "  </div>\n",
              "  "
            ],
            "text/plain": [
              "         Summary Precip Type  Temperature (C)  Apparent Temperature (C)  \\\n",
              "0  Partly Cloudy        rain         9.472222                  7.388889   \n",
              "1  Partly Cloudy        rain         9.355556                  7.227778   \n",
              "2  Mostly Cloudy        rain         9.377778                  9.377778   \n",
              "3  Partly Cloudy        rain         8.288889                  5.944444   \n",
              "4  Mostly Cloudy        rain         8.755556                  6.977778   \n",
              "\n",
              "   Humidity  Wind Speed (km/h)  Wind Bearing (degrees)  Visibility (km)  \\\n",
              "0      0.89            14.1197                   251.0          15.8263   \n",
              "1      0.86            14.2646                   259.0          15.8263   \n",
              "2      0.89             3.9284                   204.0          14.9569   \n",
              "3      0.83            14.1036                   269.0          15.8263   \n",
              "4      0.83            11.0446                   259.0          15.8263   \n",
              "\n",
              "   Pressure (millibars)  \n",
              "0               1015.13  \n",
              "1               1015.63  \n",
              "2               1015.94  \n",
              "3               1016.41  \n",
              "4               1016.51  "
            ]
          },
          "execution_count": 9,
          "metadata": {},
          "output_type": "execute_result"
        }
      ],
      "source": [
        "data.head()"
      ]
    },
    {
      "cell_type": "markdown",
      "metadata": {
        "id": "rLThf6pQYJnY"
      },
      "source": [
        "### understaning data "
      ]
    },
    {
      "cell_type": "code",
      "execution_count": 10,
      "metadata": {
        "colab": {
          "base_uri": "https://localhost:8080/",
          "height": 334
        },
        "id": "bv6VzhcLYJna",
        "outputId": "2459ca74-5de9-45f5-e097-95c6843c3e06"
      },
      "outputs": [
        {
          "data": {
            "image/png": "[encoded data removed]",
            "text/plain": [
              "<Figure size 720x360 with 1 Axes>"
            ]
          },
          "metadata": {
            "needs_background": "light"
          },
          "output_type": "display_data"
        }
      ],
      "source": [
        "data['Precip Type'].value_counts()\n",
        "plt.subplots(figsize = (10, 5))\n",
        "sns.countplot(x='Precip Type', data=data);"
      ]
    },
    {
      "cell_type": "code",
      "execution_count": 11,
      "metadata": {
        "colab": {
          "base_uri": "https://localhost:8080/",
          "height": 498
        },
        "id": "_bwbMVlcYJna",
        "outputId": "417989c4-1b4f-44f7-82bd-47f8b507e279"
      },
      "outputs": [
        {
          "data": {
            "image/png": "[encoded data removed]",
            "text/plain": [
              "<Figure size 720x432 with 2 Axes>"
            ]
          },
          "metadata": {
            "needs_background": "light"
          },
          "output_type": "display_data"
        }
      ],
      "source": [
        "plt.subplots(figsize = (10, 6))\n",
        "sns.heatmap(data.corr(), linewidth = 0.1, annot=True);"
      ]
    },
    {
      "cell_type": "markdown",
      "metadata": {
        "id": "RECyztHnYJnb"
      },
      "source": [
        "###### Temperature (C) is the most important feature couse of high correlation between it and targrt Apparent Temperature (C)"
      ]
    },
    {
      "cell_type": "markdown",
      "metadata": {
        "id": "Wfamcvg2YJnb"
      },
      "source": [
        "###### drop Humidity couse of negative correlation between it and target variaable"
      ]
    },
    {
      "cell_type": "code",
      "execution_count": 12,
      "metadata": {
        "id": "3Kz4n7JLYJnc"
      },
      "outputs": [],
      "source": [
        "data.drop(columns=['Humidity'], inplace=True)"
      ]
    },
    {
      "cell_type": "code",
      "execution_count": 13,
      "metadata": {
        "colab": {
          "base_uri": "https://localhost:8080/",
          "height": 607
        },
        "id": "BjzMbSpqYJnc",
        "outputId": "85eaa4bd-0273-4187-eb8c-3c105b5d87bb"
      },
      "outputs": [
        {
          "data": {
            "image/png": "[encoded data removed]",
            "text/plain": [
              "<Figure size 1224x720 with 6 Axes>"
            ]
          },
          "metadata": {
            "needs_background": "light"
          },
          "output_type": "display_data"
        }
      ],
      "source": [
        "num_col = list(set(data.describe().columns))\n",
        "data[num_col].hist(bins = 100, figsize = (17, 10));"
      ]
    },
    {
      "cell_type": "code",
      "execution_count": 14,
      "metadata": {
        "colab": {
          "base_uri": "https://localhost:8080/",
          "height": 206
        },
        "id": "gEHt-w3hYJnd",
        "outputId": "5e8666ef-41cd-47a0-e0ce-58d046e30a44"
      },
      "outputs": [
        {
          "data": {
            "text/html": [
              "\n",
              "  <div id=\"df-c2b84bd8-9755-496a-8e1e-cae9dfc74cdd\">\n",
              "    <div class=\"colab-df-container\">\n",
              "      <div>\n",
              "<style scoped>\n",
              "    .dataframe tbody tr th:only-of-type {\n",
              "        vertical-align: middle;\n",
              "    }\n",
              "\n",
              "    .dataframe tbody tr th {\n",
              "        vertical-align: top;\n",
              "    }\n",
              "\n",
              "    .dataframe thead th {\n",
              "        text-align: right;\n",
              "    }\n",
              "</style>\n",
              "<table border=\"1\" class=\"dataframe\">\n",
              "  <thead>\n",
              "    <tr style=\"text-align: right;\">\n",
              "      <th></th>\n",
              "      <th>Summary</th>\n",
              "      <th>Precip Type</th>\n",
              "      <th>Temperature (C)</th>\n",
              "      <th>Apparent Temperature (C)</th>\n",
              "      <th>Wind Speed (km/h)</th>\n",
              "      <th>Wind Bearing (degrees)</th>\n",
              "      <th>Visibility (km)</th>\n",
              "      <th>Pressure (millibars)</th>\n",
              "    </tr>\n",
              "  </thead>\n",
              "  <tbody>\n",
              "    <tr>\n",
              "      <th>0</th>\n",
              "      <td>Partly Cloudy</td>\n",
              "      <td>rain</td>\n",
              "      <td>9.472222</td>\n",
              "      <td>7.388889</td>\n",
              "      <td>14.1197</td>\n",
              "      <td>251.0</td>\n",
              "      <td>15.8263</td>\n",
              "      <td>1015.13</td>\n",
              "    </tr>\n",
              "    <tr>\n",
              "      <th>1</th>\n",
              "      <td>Partly Cloudy</td>\n",
              "      <td>rain</td>\n",
              "      <td>9.355556</td>\n",
              "      <td>7.227778</td>\n",
              "      <td>14.2646</td>\n",
              "      <td>259.0</td>\n",
              "      <td>15.8263</td>\n",
              "      <td>1015.63</td>\n",
              "    </tr>\n",
              "    <tr>\n",
              "      <th>2</th>\n",
              "      <td>Mostly Cloudy</td>\n",
              "      <td>rain</td>\n",
              "      <td>9.377778</td>\n",
              "      <td>9.377778</td>\n",
              "      <td>3.9284</td>\n",
              "      <td>204.0</td>\n",
              "      <td>14.9569</td>\n",
              "      <td>1015.94</td>\n",
              "    </tr>\n",
              "    <tr>\n",
              "      <th>3</th>\n",
              "      <td>Partly Cloudy</td>\n",
              "      <td>rain</td>\n",
              "      <td>8.288889</td>\n",
              "      <td>5.944444</td>\n",
              "      <td>14.1036</td>\n",
              "      <td>269.0</td>\n",
              "      <td>15.8263</td>\n",
              "      <td>1016.41</td>\n",
              "    </tr>\n",
              "    <tr>\n",
              "      <th>4</th>\n",
              "      <td>Mostly Cloudy</td>\n",
              "      <td>rain</td>\n",
              "      <td>8.755556</td>\n",
              "      <td>6.977778</td>\n",
              "      <td>11.0446</td>\n",
              "      <td>259.0</td>\n",
              "      <td>15.8263</td>\n",
              "      <td>1016.51</td>\n",
              "    </tr>\n",
              "  </tbody>\n",
              "</table>\n",
              "</div>\n",
              "      <button class=\"colab-df-convert\" onclick=\"convertToInteractive('df-c2b84bd8-9755-496a-8e1e-cae9dfc74cdd')\"\n",
              "              title=\"Convert this dataframe to an interactive table.\"\n",
              "              style=\"display:none;\">\n",
              "        \n",
              "  <svg xmlns=\"http://www.w3.org/2000/svg\" height=\"24px\"viewBox=\"0 0 24 24\"\n",
              "       width=\"24px\">\n",
              "    <path d=\"M0 0h24v24H0V0z\" fill=\"none\"/>\n",
              "    <path d=\"M18.56 5.44l.94 2.06.94-2.06 2.06-.94-2.06-.94-.94-2.06-.94 2.06-2.06.94zm-11 1L8.5 8.5l.94-2.06 2.06-.94-2.06-.94L8.5 2.5l-.94 2.06-2.06.94zm10 10l.94 2.06.94-2.06 2.06-.94-2.06-.94-.94-2.06-.94 2.06-2.06.94z\"/><path d=\"M17.41 7.96l-1.37-1.37c-.4-.4-.92-.59-1.43-.59-.52 0-1.04.2-1.43.59L10.3 9.45l-7.72 7.72c-.78.78-.78 2.05 0 2.83L4 21.41c.39.39.9.59 1.41.59.51 0 1.02-.2 1.41-.59l7.78-7.78 2.81-2.81c.8-.78.8-2.07 0-2.86zM5.41 20L4 18.59l7.72-7.72 1.47 1.35L5.41 20z\"/>\n",
              "  </svg>\n",
              "      </button>\n",
              "      \n",
              "  <style>\n",
              "    .colab-df-container {\n",
              "      display:flex;\n",
              "      flex-wrap:wrap;\n",
              "      gap: 12px;\n",
              "    }\n",
              "\n",
              "    .colab-df-convert {\n",
              "      background-color: #E8F0FE;\n",
              "      border: none;\n",
              "      border-radius: 50%;\n",
              "      cursor: pointer;\n",
              "      display: none;\n",
              "      fill: #1967D2;\n",
              "      height: 32px;\n",
              "      padding: 0 0 0 0;\n",
              "      width: 32px;\n",
              "    }\n",
              "\n",
              "    .colab-df-convert:hover {\n",
              "      background-color: #E2EBFA;\n",
              "      box-shadow: 0px 1px 2px rgba(60, 64, 67, 0.3), 0px 1px 3px 1px rgba(60, 64, 67, 0.15);\n",
              "      fill: #174EA6;\n",
              "    }\n",
              "\n",
              "    [theme=dark] .colab-df-convert {\n",
              "      background-color: #3B4455;\n",
              "      fill: #D2E3FC;\n",
              "    }\n",
              "\n",
              "    [theme=dark] .colab-df-convert:hover {\n",
              "      background-color: #434B5C;\n",
              "      box-shadow: 0px 1px 3px 1px rgba(0, 0, 0, 0.15);\n",
              "      filter: drop-shadow(0px 1px 2px rgba(0, 0, 0, 0.3));\n",
              "      fill: #FFFFFF;\n",
              "    }\n",
              "  </style>\n",
              "\n",
              "      <script>\n",
              "        const buttonEl =\n",
              "          document.querySelector('#df-c2b84bd8-9755-496a-8e1e-cae9dfc74cdd button.colab-df-convert');\n",
              "        buttonEl.style.display =\n",
              "          google.colab.kernel.accessAllowed ? 'block' : 'none';\n",
              "\n",
              "        async function convertToInteractive(key) {\n",
              "          const element = document.querySelector('#df-c2b84bd8-9755-496a-8e1e-cae9dfc74cdd');\n",
              "          const dataTable =\n",
              "            await google.colab.kernel.invokeFunction('convertToInteractive',\n",
              "                                                     [key], {});\n",
              "          if (!dataTable) return;\n",
              "\n",
              "          const docLinkHtml = 'Like what you see? Visit the ' +\n",
              "            '<a target=\"_blank\" href=https://colab.research.google.com/notebooks/data_table.ipynb>data table notebook</a>'\n",
              "            + ' to learn more about interactive tables.';\n",
              "          element.innerHTML = '';\n",
              "          dataTable['output_type'] = 'display_data';\n",
              "          await google.colab.output.renderOutput(dataTable, element);\n",
              "          const docLink = document.createElement('div');\n",
              "          docLink.innerHTML = docLinkHtml;\n",
              "          element.appendChild(docLink);\n",
              "        }\n",
              "      </script>\n",
              "    </div>\n",
              "  </div>\n",
              "  "
            ],
            "text/plain": [
              "         Summary Precip Type  Temperature (C)  Apparent Temperature (C)  \\\n",
              "0  Partly Cloudy        rain         9.472222                  7.388889   \n",
              "1  Partly Cloudy        rain         9.355556                  7.227778   \n",
              "2  Mostly Cloudy        rain         9.377778                  9.377778   \n",
              "3  Partly Cloudy        rain         8.288889                  5.944444   \n",
              "4  Mostly Cloudy        rain         8.755556                  6.977778   \n",
              "\n",
              "   Wind Speed (km/h)  Wind Bearing (degrees)  Visibility (km)  \\\n",
              "0            14.1197                   251.0          15.8263   \n",
              "1            14.2646                   259.0          15.8263   \n",
              "2             3.9284                   204.0          14.9569   \n",
              "3            14.1036                   269.0          15.8263   \n",
              "4            11.0446                   259.0          15.8263   \n",
              "\n",
              "   Pressure (millibars)  \n",
              "0               1015.13  \n",
              "1               1015.63  \n",
              "2               1015.94  \n",
              "3               1016.41  \n",
              "4               1016.51  "
            ]
          },
          "execution_count": 14,
          "metadata": {},
          "output_type": "execute_result"
        }
      ],
      "source": [
        "data.head()"
      ]
    },
    {
      "cell_type": "code",
      "execution_count": 15,
      "metadata": {
        "colab": {
          "base_uri": "https://localhost:8080/",
          "height": 279
        },
        "id": "Sld7ArlOYJnd",
        "outputId": "76036a5e-c8fc-4990-dcfc-e8d0f5893a11"
      },
      "outputs": [
        {
          "data": {
            "image/png": "[encoded data removed]",
            "text/plain": [
              "<Figure size 432x288 with 1 Axes>"
            ]
          },
          "metadata": {
            "needs_background": "light"
          },
          "output_type": "display_data"
        }
      ],
      "source": [
        "sns.boxplot(data['Temperature (C)']);"
      ]
    },
    {
      "cell_type": "code",
      "execution_count": 16,
      "metadata": {
        "colab": {
          "base_uri": "https://localhost:8080/",
          "height": 279
        },
        "id": "E0Ma6w_cYJnd",
        "outputId": "d8727f01-9a6c-49ad-8586-1f705faa4409"
      },
      "outputs": [
        {
          "data": {
            "image/png": "[encoded data removed]",
            "text/plain": [
              "<Figure size 432x288 with 1 Axes>"
            ]
          },
          "metadata": {
            "needs_background": "light"
          },
          "output_type": "display_data"
        }
      ],
      "source": [
        "sns.boxplot(data['Wind Speed (km/h)']);"
      ]
    },
    {
      "cell_type": "code",
      "execution_count": 17,
      "metadata": {
        "colab": {
          "base_uri": "https://localhost:8080/",
          "height": 279
        },
        "id": "J4t5TA7fYJnd",
        "outputId": "2ae8808b-a25b-45fa-89f9-b27ca5a96afd"
      },
      "outputs": [
        {
          "data": {
            "image/png": "[encoded data removed]",
            "text/plain": [
              "<Figure size 432x288 with 1 Axes>"
            ]
          },
          "metadata": {
            "needs_background": "light"
          },
          "output_type": "display_data"
        }
      ],
      "source": [
        "sns.scatterplot(data=data, x='Temperature (C)', y='Wind Speed (km/h)');"
      ]
    },
    {
      "cell_type": "code",
      "execution_count": 18,
      "metadata": {
        "colab": {
          "base_uri": "https://localhost:8080/"
        },
        "id": "ZlqL9XkhYJne",
        "outputId": "6366c69b-5a82-4b03-cd29-7f5759973d47"
      },
      "outputs": [
        {
          "data": {
            "text/plain": [
              "Summary                       0\n",
              "Precip Type                 517\n",
              "Temperature (C)               0\n",
              "Apparent Temperature (C)      0\n",
              "Wind Speed (km/h)             0\n",
              "Wind Bearing (degrees)        0\n",
              "Visibility (km)               0\n",
              "Pressure (millibars)          0\n",
              "dtype: int64"
            ]
          },
          "execution_count": 18,
          "metadata": {},
          "output_type": "execute_result"
        }
      ],
      "source": [
        "data.isna().sum()"
      ]
    },
    {
      "cell_type": "code",
      "execution_count": 19,
      "metadata": {
        "colab": {
          "base_uri": "https://localhost:8080/"
        },
        "id": "VamZHn4uYJne",
        "outputId": "dce9ead8-8c4e-42d9-a327-c35c9f8b296d"
      },
      "outputs": [
        {
          "data": {
            "text/plain": [
              "82"
            ]
          },
          "execution_count": 19,
          "metadata": {},
          "output_type": "execute_result"
        }
      ],
      "source": [
        "data.duplicated().sum()"
      ]
    },
    {
      "cell_type": "code",
      "execution_count": 20,
      "metadata": {
        "id": "bc3tBnH4YJne"
      },
      "outputs": [],
      "source": [
        "data = data.drop_duplicates()"
      ]
    },
    {
      "cell_type": "code",
      "execution_count": 21,
      "metadata": {
        "colab": {
          "base_uri": "https://localhost:8080/"
        },
        "id": "BnTbQkmJYJnf",
        "outputId": "1e4084b1-048e-4cea-cf17-268bde476339"
      },
      "outputs": [
        {
          "data": {
            "text/plain": [
              "Temperature (C)             0.094103\n",
              "Apparent Temperature (C)   -0.057734\n",
              "Wind Speed (km/h)           1.113460\n",
              "Wind Bearing (degrees)     -0.154657\n",
              "Visibility (km)            -0.498505\n",
              "Pressure (millibars)       -8.445812\n",
              "dtype: float64"
            ]
          },
          "execution_count": 21,
          "metadata": {},
          "output_type": "execute_result"
        }
      ],
      "source": [
        "data.skew()"
      ]
    },
    {
      "cell_type": "markdown",
      "metadata": {
        "id": "REgCDcOsYJnf"
      },
      "source": [
        "#### Numerical and Categorical Columns"
      ]
    },
    {
      "cell_type": "code",
      "execution_count": 22,
      "metadata": {
        "id": "lPXu6uNJYJnf"
      },
      "outputs": [],
      "source": [
        "def divid_data(data):\n",
        "    num_col = list(set(data.describe().columns))\n",
        "    cat_col = list(set(data.columns) - set(num_col))\n",
        "    return num_col, cat_col"
      ]
    },
    {
      "cell_type": "markdown",
      "metadata": {
        "id": "5pa6YM6qYJnf"
      },
      "source": [
        "#### Nulls Handling"
      ]
    },
    {
      "cell_type": "code",
      "execution_count": 23,
      "metadata": {
        "id": "mhF6kr2bYJng"
      },
      "outputs": [],
      "source": [
        "def get_nulls(data):\n",
        "    df_nulls = data.isna().sum().reset_index().rename(columns={ 0 : 'nulls_count'})\n",
        "    return df_nulls[df_nulls['nulls_count'] > 0].sort_values(by=['nulls_count'], ascending=False)\n",
        "\n",
        "def nulls_handler(data):\n",
        "\n",
        "    df_nulls = data.isna().sum().reset_index().rename(columns={ 0 : 'nulls_count'})\n",
        "    df_nulls = df_nulls[df_nulls['nulls_count'] > 0].sort_values(by=['nulls_count'], ascending=False)\n",
        "\n",
        "    cols_to_drop = []\n",
        "    fturs_to_fill = []\n",
        "    rows_to_drop = []\n",
        "\n",
        "    for _, row in df_nulls.iterrows():\n",
        "        if row['nulls_count'] / data.shape[0] > 0.25:\n",
        "            cols_to_drop.append(row[\"index\"])\n",
        "            print(f\"{row['index']} dropped\")\n",
        "        if row['nulls_count'] / data.shape[0] < 0.10:\n",
        "            rows_to_drop.append(row[\"index\"])\n",
        "            print(f\"Nan rows removed from {row['index']}\")\n",
        "        if row['nulls_count'] / data.shape[0] < 0.25 and row['nulls_count'] / data.shape[0] > 0.10:\n",
        "            fturs_to_fill.append(row['index'])\n",
        "            print(f\"{row['index']} replaced with mean\")\n",
        "    \n",
        "    data = data.drop(columns=cols_to_drop)\n",
        "    data[fturs_to_fill] = data[fturs_to_fill].fillna(data[fturs_to_fill].mean(), axis=0)\n",
        "    data = data.dropna(subset=rows_to_drop, axis=0)\n",
        "    \n",
        "    return data"
      ]
    },
    {
      "cell_type": "markdown",
      "metadata": {
        "id": "R0UKk-oMYJng"
      },
      "source": [
        "#### Outliers Clamping"
      ]
    },
    {
      "cell_type": "code",
      "execution_count": 24,
      "metadata": {
        "id": "NkFXqr-TYJng"
      },
      "outputs": [],
      "source": [
        "def outliers_clamper(data, num_cols, threshold=1.5):\n",
        "    for col in num_cols:\n",
        "        Q1 = np.percentile(data[col], q = 25, interpolation = 'midpoint')\n",
        "        Q3 = np.percentile(data[col], q = 75, interpolation = 'midpoint')\n",
        "        IQR = Q3 - Q1\n",
        "        Upper_Bound = Q3 + (threshold*IQR)\n",
        "        Lower_Bound = Q1 - (threshold*IQR)\n",
        "        data.loc[data[col] > Upper_Bound, col] = Upper_Bound\n",
        "        data.loc[data[col] < Lower_Bound, col] = Lower_Bound\n",
        "    return data"
      ]
    },
    {
      "cell_type": "markdown",
      "metadata": {
        "id": "a0unyB4hYJng"
      },
      "source": [
        "#### Shapiro-Wike Test"
      ]
    },
    {
      "cell_type": "code",
      "execution_count": 25,
      "metadata": {
        "id": "DdyFyKBwYJnh"
      },
      "outputs": [],
      "source": [
        "def shapiro_test(data, cols, alpha=0.005):\n",
        "    feats_std_scale = []\n",
        "    feats_min_max_scale = []\n",
        "    for col in cols:\n",
        "        _, p = stats.shapiro(data[col])\n",
        "\n",
        "        if p > alpha:\n",
        "            feats_std_scale.append(col)\n",
        "        else:\n",
        "            feats_min_max_scale.append(col)\n",
        "\n",
        "    return feats_std_scale, feats_min_max_scale"
      ]
    },
    {
      "cell_type": "markdown",
      "metadata": {
        "id": "LhQeFZRhYJnh"
      },
      "source": [
        "#### Skewed Values Log Transformer"
      ]
    },
    {
      "cell_type": "code",
      "execution_count": 26,
      "metadata": {
        "id": "Gy0Aj-5NYJnh"
      },
      "outputs": [],
      "source": [
        "def skewness_handler(data):\n",
        "    skewned_list =[]\n",
        "\n",
        "    skewness = data.skew()\n",
        "\n",
        "    for i in range(len(skewness)):\n",
        "        if abs(skewness[i]) > 1:\n",
        "            skewned_list.append(data.columns[i])\n",
        "    for col in skewned_list:\n",
        "        data[col] = np.log(1 + data[col])\n",
        "\n",
        "    return data"
      ]
    },
    {
      "cell_type": "markdown",
      "metadata": {
        "id": "brCogQENYJnh"
      },
      "source": [
        "#### Data Pre-Precessing"
      ]
    },
    {
      "cell_type": "code",
      "execution_count": 27,
      "metadata": {
        "id": "grzFb_kdYJnh"
      },
      "outputs": [],
      "source": [
        "train, validation = train_test_split(data, test_size=0.20, random_state=42)"
      ]
    },
    {
      "cell_type": "code",
      "execution_count": 28,
      "metadata": {
        "colab": {
          "base_uri": "https://localhost:8080/",
          "height": 81
        },
        "id": "212HjFoyYJni",
        "outputId": "d224e1fd-333c-4511-b934-5791a356a381"
      },
      "outputs": [
        {
          "data": {
            "text/html": [
              "\n",
              "  <div id=\"df-f2e5eb71-756b-491e-8f74-d39a65fb7d87\">\n",
              "    <div class=\"colab-df-container\">\n",
              "      <div>\n",
              "<style scoped>\n",
              "    .dataframe tbody tr th:only-of-type {\n",
              "        vertical-align: middle;\n",
              "    }\n",
              "\n",
              "    .dataframe tbody tr th {\n",
              "        vertical-align: top;\n",
              "    }\n",
              "\n",
              "    .dataframe thead th {\n",
              "        text-align: right;\n",
              "    }\n",
              "</style>\n",
              "<table border=\"1\" class=\"dataframe\">\n",
              "  <thead>\n",
              "    <tr style=\"text-align: right;\">\n",
              "      <th></th>\n",
              "      <th>index</th>\n",
              "      <th>nulls_count</th>\n",
              "    </tr>\n",
              "  </thead>\n",
              "  <tbody>\n",
              "    <tr>\n",
              "      <th>1</th>\n",
              "      <td>Precip Type</td>\n",
              "      <td>417</td>\n",
              "    </tr>\n",
              "  </tbody>\n",
              "</table>\n",
              "</div>\n",
              "      <button class=\"colab-df-convert\" onclick=\"convertToInteractive('df-f2e5eb71-756b-491e-8f74-d39a65fb7d87')\"\n",
              "              title=\"Convert this dataframe to an interactive table.\"\n",
              "              style=\"display:none;\">\n",
              "        \n",
              "  <svg xmlns=\"http://www.w3.org/2000/svg\" height=\"24px\"viewBox=\"0 0 24 24\"\n",
              "       width=\"24px\">\n",
              "    <path d=\"M0 0h24v24H0V0z\" fill=\"none\"/>\n",
              "    <path d=\"M18.56 5.44l.94 2.06.94-2.06 2.06-.94-2.06-.94-.94-2.06-.94 2.06-2.06.94zm-11 1L8.5 8.5l.94-2.06 2.06-.94-2.06-.94L8.5 2.5l-.94 2.06-2.06.94zm10 10l.94 2.06.94-2.06 2.06-.94-2.06-.94-.94-2.06-.94 2.06-2.06.94z\"/><path d=\"M17.41 7.96l-1.37-1.37c-.4-.4-.92-.59-1.43-.59-.52 0-1.04.2-1.43.59L10.3 9.45l-7.72 7.72c-.78.78-.78 2.05 0 2.83L4 21.41c.39.39.9.59 1.41.59.51 0 1.02-.2 1.41-.59l7.78-7.78 2.81-2.81c.8-.78.8-2.07 0-2.86zM5.41 20L4 18.59l7.72-7.72 1.47 1.35L5.41 20z\"/>\n",
              "  </svg>\n",
              "      </button>\n",
              "      \n",
              "  <style>\n",
              "    .colab-df-container {\n",
              "      display:flex;\n",
              "      flex-wrap:wrap;\n",
              "      gap: 12px;\n",
              "    }\n",
              "\n",
              "    .colab-df-convert {\n",
              "      background-color: #E8F0FE;\n",
              "      border: none;\n",
              "      border-radius: 50%;\n",
              "      cursor: pointer;\n",
              "      display: none;\n",
              "      fill: #1967D2;\n",
              "      height: 32px;\n",
              "      padding: 0 0 0 0;\n",
              "      width: 32px;\n",
              "    }\n",
              "\n",
              "    .colab-df-convert:hover {\n",
              "      background-color: #E2EBFA;\n",
              "      box-shadow: 0px 1px 2px rgba(60, 64, 67, 0.3), 0px 1px 3px 1px rgba(60, 64, 67, 0.15);\n",
              "      fill: #174EA6;\n",
              "    }\n",
              "\n",
              "    [theme=dark] .colab-df-convert {\n",
              "      background-color: #3B4455;\n",
              "      fill: #D2E3FC;\n",
              "    }\n",
              "\n",
              "    [theme=dark] .colab-df-convert:hover {\n",
              "      background-color: #434B5C;\n",
              "      box-shadow: 0px 1px 3px 1px rgba(0, 0, 0, 0.15);\n",
              "      filter: drop-shadow(0px 1px 2px rgba(0, 0, 0, 0.3));\n",
              "      fill: #FFFFFF;\n",
              "    }\n",
              "  </style>\n",
              "\n",
              "      <script>\n",
              "        const buttonEl =\n",
              "          document.querySelector('#df-f2e5eb71-756b-491e-8f74-d39a65fb7d87 button.colab-df-convert');\n",
              "        buttonEl.style.display =\n",
              "          google.colab.kernel.accessAllowed ? 'block' : 'none';\n",
              "\n",
              "        async function convertToInteractive(key) {\n",
              "          const element = document.querySelector('#df-f2e5eb71-756b-491e-8f74-d39a65fb7d87');\n",
              "          const dataTable =\n",
              "            await google.colab.kernel.invokeFunction('convertToInteractive',\n",
              "                                                     [key], {});\n",
              "          if (!dataTable) return;\n",
              "\n",
              "          const docLinkHtml = 'Like what you see? Visit the ' +\n",
              "            '<a target=\"_blank\" href=https://colab.research.google.com/notebooks/data_table.ipynb>data table notebook</a>'\n",
              "            + ' to learn more about interactive tables.';\n",
              "          element.innerHTML = '';\n",
              "          dataTable['output_type'] = 'display_data';\n",
              "          await google.colab.output.renderOutput(dataTable, element);\n",
              "          const docLink = document.createElement('div');\n",
              "          docLink.innerHTML = docLinkHtml;\n",
              "          element.appendChild(docLink);\n",
              "        }\n",
              "      </script>\n",
              "    </div>\n",
              "  </div>\n",
              "  "
            ],
            "text/plain": [
              "         index  nulls_count\n",
              "1  Precip Type          417"
            ]
          },
          "execution_count": 28,
          "metadata": {},
          "output_type": "execute_result"
        }
      ],
      "source": [
        "get_nulls(train)"
      ]
    },
    {
      "cell_type": "code",
      "execution_count": 29,
      "metadata": {
        "colab": {
          "base_uri": "https://localhost:8080/",
          "height": 81
        },
        "id": "byoWkb7yYJni",
        "outputId": "f3e1a279-c993-4531-e6f5-e6f08f90187a"
      },
      "outputs": [
        {
          "data": {
            "text/html": [
              "\n",
              "  <div id=\"df-55c45967-f7b6-4f07-ad47-1afc308228ad\">\n",
              "    <div class=\"colab-df-container\">\n",
              "      <div>\n",
              "<style scoped>\n",
              "    .dataframe tbody tr th:only-of-type {\n",
              "        vertical-align: middle;\n",
              "    }\n",
              "\n",
              "    .dataframe tbody tr th {\n",
              "        vertical-align: top;\n",
              "    }\n",
              "\n",
              "    .dataframe thead th {\n",
              "        text-align: right;\n",
              "    }\n",
              "</style>\n",
              "<table border=\"1\" class=\"dataframe\">\n",
              "  <thead>\n",
              "    <tr style=\"text-align: right;\">\n",
              "      <th></th>\n",
              "      <th>index</th>\n",
              "      <th>nulls_count</th>\n",
              "    </tr>\n",
              "  </thead>\n",
              "  <tbody>\n",
              "    <tr>\n",
              "      <th>1</th>\n",
              "      <td>Precip Type</td>\n",
              "      <td>100</td>\n",
              "    </tr>\n",
              "  </tbody>\n",
              "</table>\n",
              "</div>\n",
              "      <button class=\"colab-df-convert\" onclick=\"convertToInteractive('df-55c45967-f7b6-4f07-ad47-1afc308228ad')\"\n",
              "              title=\"Convert this dataframe to an interactive table.\"\n",
              "              style=\"display:none;\">\n",
              "        \n",
              "  <svg xmlns=\"http://www.w3.org/2000/svg\" height=\"24px\"viewBox=\"0 0 24 24\"\n",
              "       width=\"24px\">\n",
              "    <path d=\"M0 0h24v24H0V0z\" fill=\"none\"/>\n",
              "    <path d=\"M18.56 5.44l.94 2.06.94-2.06 2.06-.94-2.06-.94-.94-2.06-.94 2.06-2.06.94zm-11 1L8.5 8.5l.94-2.06 2.06-.94-2.06-.94L8.5 2.5l-.94 2.06-2.06.94zm10 10l.94 2.06.94-2.06 2.06-.94-2.06-.94-.94-2.06-.94 2.06-2.06.94z\"/><path d=\"M17.41 7.96l-1.37-1.37c-.4-.4-.92-.59-1.43-.59-.52 0-1.04.2-1.43.59L10.3 9.45l-7.72 7.72c-.78.78-.78 2.05 0 2.83L4 21.41c.39.39.9.59 1.41.59.51 0 1.02-.2 1.41-.59l7.78-7.78 2.81-2.81c.8-.78.8-2.07 0-2.86zM5.41 20L4 18.59l7.72-7.72 1.47 1.35L5.41 20z\"/>\n",
              "  </svg>\n",
              "      </button>\n",
              "      \n",
              "  <style>\n",
              "    .colab-df-container {\n",
              "      display:flex;\n",
              "      flex-wrap:wrap;\n",
              "      gap: 12px;\n",
              "    }\n",
              "\n",
              "    .colab-df-convert {\n",
              "      background-color: #E8F0FE;\n",
              "      border: none;\n",
              "      border-radius: 50%;\n",
              "      cursor: pointer;\n",
              "      display: none;\n",
              "      fill: #1967D2;\n",
              "      height: 32px;\n",
              "      padding: 0 0 0 0;\n",
              "      width: 32px;\n",
              "    }\n",
              "\n",
              "    .colab-df-convert:hover {\n",
              "      background-color: #E2EBFA;\n",
              "      box-shadow: 0px 1px 2px rgba(60, 64, 67, 0.3), 0px 1px 3px 1px rgba(60, 64, 67, 0.15);\n",
              "      fill: #174EA6;\n",
              "    }\n",
              "\n",
              "    [theme=dark] .colab-df-convert {\n",
              "      background-color: #3B4455;\n",
              "      fill: #D2E3FC;\n",
              "    }\n",
              "\n",
              "    [theme=dark] .colab-df-convert:hover {\n",
              "      background-color: #434B5C;\n",
              "      box-shadow: 0px 1px 3px 1px rgba(0, 0, 0, 0.15);\n",
              "      filter: drop-shadow(0px 1px 2px rgba(0, 0, 0, 0.3));\n",
              "      fill: #FFFFFF;\n",
              "    }\n",
              "  </style>\n",
              "\n",
              "      <script>\n",
              "        const buttonEl =\n",
              "          document.querySelector('#df-55c45967-f7b6-4f07-ad47-1afc308228ad button.colab-df-convert');\n",
              "        buttonEl.style.display =\n",
              "          google.colab.kernel.accessAllowed ? 'block' : 'none';\n",
              "\n",
              "        async function convertToInteractive(key) {\n",
              "          const element = document.querySelector('#df-55c45967-f7b6-4f07-ad47-1afc308228ad');\n",
              "          const dataTable =\n",
              "            await google.colab.kernel.invokeFunction('convertToInteractive',\n",
              "                                                     [key], {});\n",
              "          if (!dataTable) return;\n",
              "\n",
              "          const docLinkHtml = 'Like what you see? Visit the ' +\n",
              "            '<a target=\"_blank\" href=https://colab.research.google.com/notebooks/data_table.ipynb>data table notebook</a>'\n",
              "            + ' to learn more about interactive tables.';\n",
              "          element.innerHTML = '';\n",
              "          dataTable['output_type'] = 'display_data';\n",
              "          await google.colab.output.renderOutput(dataTable, element);\n",
              "          const docLink = document.createElement('div');\n",
              "          docLink.innerHTML = docLinkHtml;\n",
              "          element.appendChild(docLink);\n",
              "        }\n",
              "      </script>\n",
              "    </div>\n",
              "  </div>\n",
              "  "
            ],
            "text/plain": [
              "         index  nulls_count\n",
              "1  Precip Type          100"
            ]
          },
          "execution_count": 29,
          "metadata": {},
          "output_type": "execute_result"
        }
      ],
      "source": [
        "get_nulls(validation)"
      ]
    },
    {
      "cell_type": "code",
      "execution_count": 30,
      "metadata": {
        "colab": {
          "base_uri": "https://localhost:8080/"
        },
        "id": "oChpzS4KYJni",
        "outputId": "e55572e3-957a-409a-942a-3a352767dc70"
      },
      "outputs": [
        {
          "name": "stdout",
          "output_type": "stream",
          "text": [
            "Nan rows removed from Precip Type\n"
          ]
        }
      ],
      "source": [
        "train = nulls_handler(train)"
      ]
    },
    {
      "cell_type": "code",
      "execution_count": 31,
      "metadata": {
        "colab": {
          "base_uri": "https://localhost:8080/"
        },
        "id": "Fd2X1mxwYJni",
        "outputId": "99b1f290-9e81-46e7-ddf4-e36b1c220b5f"
      },
      "outputs": [
        {
          "name": "stdout",
          "output_type": "stream",
          "text": [
            "Nan rows removed from Precip Type\n"
          ]
        }
      ],
      "source": [
        "validation = nulls_handler(validation)"
      ]
    },
    {
      "cell_type": "code",
      "execution_count": 32,
      "metadata": {
        "id": "sgyJ99PuYJni"
      },
      "outputs": [],
      "source": [
        "num_col, cat_col = divid_data(data)"
      ]
    },
    {
      "cell_type": "code",
      "execution_count": 33,
      "metadata": {
        "id": "4v1Ta24gYJnj"
      },
      "outputs": [],
      "source": [
        "train = outliers_clamper(train, num_col)"
      ]
    },
    {
      "cell_type": "code",
      "execution_count": 34,
      "metadata": {
        "id": "deIDDnwiYJnj"
      },
      "outputs": [],
      "source": [
        "train = skewness_handler(train)"
      ]
    },
    {
      "cell_type": "code",
      "execution_count": 35,
      "metadata": {
        "colab": {
          "base_uri": "https://localhost:8080/"
        },
        "id": "nFjSINZLYJnj",
        "outputId": "7d6b0749-9fb5-455f-a950-74f20060e24b"
      },
      "outputs": [
        {
          "data": {
            "text/plain": [
              "Temperature (C)             0.098361\n",
              "Apparent Temperature (C)   -0.056471\n",
              "Wind Speed (km/h)           0.709755\n",
              "Wind Bearing (degrees)     -0.157712\n",
              "Visibility (km)            -0.491435\n",
              "Pressure (millibars)        0.015248\n",
              "dtype: float64"
            ]
          },
          "execution_count": 35,
          "metadata": {},
          "output_type": "execute_result"
        }
      ],
      "source": [
        "train.skew()"
      ]
    },
    {
      "cell_type": "markdown",
      "metadata": {
        "id": "w5vxMGzsYJnk"
      },
      "source": [
        "#### Handle Categorical Feature"
      ]
    },
    {
      "cell_type": "code",
      "execution_count": 36,
      "metadata": {
        "id": "lPm8Ih0dYJnk"
      },
      "outputs": [],
      "source": [
        "from sklearn.preprocessing import LabelEncoder\n",
        "\n",
        "label_enc = LabelEncoder()\n",
        "train['Summary'] = label_enc.fit_transform(train['Summary'])\n",
        "validation['Summary'] = label_enc.transform(validation['Summary'])"
      ]
    },
    {
      "cell_type": "code",
      "execution_count": 37,
      "metadata": {
        "id": "lY8x4Nk4WCFk"
      },
      "outputs": [],
      "source": [
        "train['Precip Type'] = label_enc.fit_transform(train['Precip Type'])\n",
        "validation['Precip Type'] = label_enc.transform(validation['Precip Type'])"
      ]
    },
    {
      "cell_type": "code",
      "execution_count": 38,
      "metadata": {
        "id": "B_qbPqVUYJnk"
      },
      "outputs": [],
      "source": [
        "feats_std_scale, feats_min_max_scale = shapiro_test(train, data.columns)"
      ]
    },
    {
      "cell_type": "code",
      "execution_count": 39,
      "metadata": {
        "colab": {
          "base_uri": "https://localhost:8080/"
        },
        "id": "W9wdyhmcYJnl",
        "outputId": "75315498-bfae-4e42-997f-1bd02c010fad"
      },
      "outputs": [
        {
          "data": {
            "text/plain": [
              "['Summary',\n",
              " 'Precip Type',\n",
              " 'Temperature (C)',\n",
              " 'Apparent Temperature (C)',\n",
              " 'Wind Speed (km/h)',\n",
              " 'Wind Bearing (degrees)',\n",
              " 'Visibility (km)',\n",
              " 'Pressure (millibars)']"
            ]
          },
          "execution_count": 39,
          "metadata": {},
          "output_type": "execute_result"
        }
      ],
      "source": [
        "feats_min_max_scale"
      ]
    },
    {
      "cell_type": "code",
      "execution_count": 40,
      "metadata": {
        "colab": {
          "base_uri": "https://localhost:8080/"
        },
        "id": "FJXLedHyYJnl",
        "outputId": "a953fa86-c1b5-4315-d87a-96c48422c8b2"
      },
      "outputs": [
        {
          "data": {
            "text/plain": [
              "[]"
            ]
          },
          "execution_count": 40,
          "metadata": {},
          "output_type": "execute_result"
        }
      ],
      "source": [
        "feats_std_scale"
      ]
    },
    {
      "cell_type": "code",
      "execution_count": 41,
      "metadata": {
        "id": "AW_tg_RqYJnl"
      },
      "outputs": [],
      "source": [
        "feats_min_max_scale.remove('Apparent Temperature (C)')"
      ]
    },
    {
      "cell_type": "code",
      "execution_count": 42,
      "metadata": {
        "id": "1x2jzpoxYJnl"
      },
      "outputs": [],
      "source": [
        "X_train = train[list(set(train.columns) - set(['Apparent Temperature (C)']))]\n",
        "y_train = train[['Apparent Temperature (C)']]\n",
        "\n",
        "X_val = validation[list(set(validation.columns) - set(['Apparent Temperature (C)']))]\n",
        "y_val = validation[['Apparent Temperature (C)']]"
      ]
    },
    {
      "cell_type": "code",
      "execution_count": 43,
      "metadata": {
        "id": "H47hfIcjYJnl"
      },
      "outputs": [],
      "source": [
        "from sklearn.preprocessing import MinMaxScaler\n",
        "\n",
        "scaler = MinMaxScaler()\n",
        "\n",
        "scaler.fit(X_train[feats_min_max_scale])\n",
        "X_train[feats_min_max_scale] = scaler.transform(X_train[feats_min_max_scale])\n",
        "X_val[feats_min_max_scale] = scaler.transform(X_val[feats_min_max_scale])"
      ]
    },
    {
      "cell_type": "markdown",
      "metadata": {
        "id": "xEDI26dpYJnm"
      },
      "source": [
        "### ML Evaluation For Prediction"
      ]
    },
    {
      "cell_type": "markdown",
      "metadata": {
        "id": "j1hT1neUYJnm"
      },
      "source": [
        "##### 1 - Linear Regression"
      ]
    },
    {
      "cell_type": "code",
      "execution_count": 44,
      "metadata": {
        "id": "KB9y2iaUTGQF"
      },
      "outputs": [],
      "source": [
        "X_train_linear = pd.DataFrame(X_train.loc[:, 'Temperature (C)'])"
      ]
    },
    {
      "cell_type": "code",
      "execution_count": 45,
      "metadata": {
        "id": "-HiEutFnT4TU"
      },
      "outputs": [],
      "source": [
        "X_val_linear = pd.DataFrame(X_val.loc[:, 'Temperature (C)'])"
      ]
    },
    {
      "cell_type": "code",
      "execution_count": 46,
      "metadata": {
        "id": "tAT2ETT1YJnm"
      },
      "outputs": [],
      "source": [
        "from sklearn.linear_model import LinearRegression\n",
        "\n",
        "reg_model = LinearRegression().fit(X_train_linear, y_train)"
      ]
    },
    {
      "cell_type": "code",
      "execution_count": 47,
      "metadata": {
        "colab": {
          "base_uri": "https://localhost:8080/"
        },
        "id": "uTZx5K7YYJnm",
        "outputId": "151e614d-3490-4cf1-b4d6-33f39bc36ca8"
      },
      "outputs": [
        {
          "data": {
            "text/plain": [
              "0.9853289677213888"
            ]
          },
          "execution_count": 47,
          "metadata": {},
          "output_type": "execute_result"
        }
      ],
      "source": [
        "y_pred_reg = reg_model.predict(X_train_linear)\n",
        "r2_score(y_train, y_pred_reg)"
      ]
    },
    {
      "cell_type": "code",
      "execution_count": 48,
      "metadata": {
        "colab": {
          "base_uri": "https://localhost:8080/"
        },
        "id": "aHzw9iIpYJnm",
        "outputId": "55764105-5ba1-4064-af34-fedc153da461"
      },
      "outputs": [
        {
          "data": {
            "text/plain": [
              "0.985497184580735"
            ]
          },
          "execution_count": 48,
          "metadata": {},
          "output_type": "execute_result"
        }
      ],
      "source": [
        "y_pred_reg_test = reg_model.predict(X_val_linear)\n",
        "r2_score(y_val, y_pred_reg_test)"
      ]
    },
    {
      "cell_type": "code",
      "execution_count": 49,
      "metadata": {
        "colab": {
          "base_uri": "https://localhost:8080/",
          "height": 265
        },
        "id": "4rRzuUiQI4Xl",
        "outputId": "1262476c-212b-4626-a60e-de91f2cf7cb7"
      },
      "outputs": [
        {
          "data": {
            "image/png": "[encoded data removed]",
            "text/plain": [
              "<Figure size 432x288 with 1 Axes>"
            ]
          },
          "metadata": {
            "needs_background": "light"
          },
          "output_type": "display_data"
        }
      ],
      "source": [
        "plt.scatter(X_train_linear, y_train, color ='b')\n",
        "plt.plot(X_train_linear, y_pred_reg, color ='r');"
      ]
    },
    {
      "cell_type": "markdown",
      "metadata": {
        "id": "CwQDog3mWCFn"
      },
      "source": [
        "#### Linear Regression From Scratch"
      ]
    },
    {
      "cell_type": "code",
      "execution_count": 50,
      "metadata": {
        "id": "Np3fYwa2WCFn"
      },
      "outputs": [],
      "source": [
        "X = np.array(X_train_linear)\n",
        "y = np.array(y_train)"
      ]
    },
    {
      "cell_type": "code",
      "execution_count": 51,
      "metadata": {
        "id": "sAFKNqFIWCFn"
      },
      "outputs": [],
      "source": [
        "ones = np.ones(len(X))\n",
        "X = np.insert(X, 0, ones, axis=1)"
      ]
    },
    {
      "cell_type": "code",
      "execution_count": 52,
      "metadata": {
        "id": "wual7mu8WCFn"
      },
      "outputs": [],
      "source": [
        "def Linear_GD(X, y, alpha, iterations):\n",
        "    m, n = X.shape\n",
        "    thetas = np.zeros((n, 1))\n",
        "    J = []\n",
        "    counter = 0\n",
        "    old_cost = 0\n",
        "    for _ in range(iterations):\n",
        "        hyp = X @ thetas\n",
        "        error = hyp - y\n",
        "        cost = np.sum((error**2)) / (2 * m)\n",
        "        J.append(cost)\n",
        "        thetas = thetas - (alpha/m) * (X.T @ error)\n",
        "        if abs(old_cost - cost ) < 1e-3:\n",
        "            break\n",
        "        old_cost = cost\n",
        "        counter += 1\n",
        "    y_predicted = X @ thetas\n",
        "    return J, counter, y_predicted"
      ]
    },
    {
      "cell_type": "code",
      "execution_count": 53,
      "metadata": {
        "colab": {
          "base_uri": "https://localhost:8080/"
        },
        "id": "c9jM7QM1WCFn",
        "outputId": "ce4f50d0-f2e2-46fa-e8b3-7dedaa705fef"
      },
      "outputs": [
        {
          "name": "stdout",
          "output_type": "stream",
          "text": [
            "1191 iteration\n",
            "r2_score = 0.981515110845421\n"
          ]
        }
      ],
      "source": [
        "J, counter, y_predicted = Linear_GD(X, y, 0.1, 10000)\n",
        "print(f\"{counter} iteration\")\n",
        "print(f\"r2_score = {r2_score(y, y_predicted)}\")"
      ]
    },
    {
      "cell_type": "code",
      "execution_count": 54,
      "metadata": {
        "colab": {
          "base_uri": "https://localhost:8080/",
          "height": 295
        },
        "id": "WHbkHMKNWCFn",
        "outputId": "a3dbc772-0c48-48d2-9587-1c25f90baee2"
      },
      "outputs": [
        {
          "data": {
            "image/png": "[encoded data removed]",
            "text/plain": [
              "<Figure size 432x288 with 1 Axes>"
            ]
          },
          "metadata": {
            "needs_background": "light"
          },
          "output_type": "display_data"
        }
      ],
      "source": [
        "plt.plot(J)\n",
        "plt.title('Cost over iterations')\n",
        "plt.ylabel('cost')\n",
        "plt.xlabel('iterations');"
      ]
    },
    {
      "cell_type": "markdown",
      "metadata": {
        "id": "if92f3rYXw_3"
      },
      "source": [
        "#### 2- Multi-Linear Regression"
      ]
    },
    {
      "cell_type": "code",
      "execution_count": 55,
      "metadata": {
        "colab": {
          "base_uri": "https://localhost:8080/"
        },
        "id": "40kF9QQtWCFo",
        "outputId": "265d69f9-3455-4ba3-be65-40ea5ee4dd33"
      },
      "outputs": [
        {
          "data": {
            "text/plain": [
              "0.9900282165616514"
            ]
          },
          "execution_count": 55,
          "metadata": {},
          "output_type": "execute_result"
        }
      ],
      "source": [
        "reg_model_multi = LinearRegression().fit(X_train, y_train)\n",
        "y_pred_reg = reg_model_multi.predict(X_train)\n",
        "r2_score(y_train, y_pred_reg)"
      ]
    },
    {
      "cell_type": "code",
      "execution_count": 56,
      "metadata": {
        "colab": {
          "base_uri": "https://localhost:8080/"
        },
        "id": "GpwReWwDWCFo",
        "outputId": "e8137f59-9380-4482-a260-8ece3e929aae"
      },
      "outputs": [
        {
          "data": {
            "text/plain": [
              "0.9800026485888302"
            ]
          },
          "execution_count": 56,
          "metadata": {},
          "output_type": "execute_result"
        }
      ],
      "source": [
        "y_pred_reg = reg_model_multi.predict(X_val)\n",
        "r2_score(y_val, y_pred_reg)"
      ]
    },
    {
      "cell_type": "markdown",
      "metadata": {
        "id": "e1rJX_0wWCFo"
      },
      "source": [
        "#### Apply Gradinet Descent on multivariables"
      ]
    },
    {
      "cell_type": "code",
      "execution_count": 59,
      "metadata": {
        "id": "1HARt0iSWCFp"
      },
      "outputs": [],
      "source": [
        "X = np.array(X_train)\n",
        "y = np.array(y_train)\n",
        "ones = np.ones(len(X))\n",
        "X = np.insert(X, 0, ones, axis=1)"
      ]
    },
    {
      "cell_type": "code",
      "execution_count": 60,
      "metadata": {
        "colab": {
          "base_uri": "https://localhost:8080/"
        },
        "id": "eKN6q4TxWCFp",
        "outputId": "3c95f2df-6bfa-424e-aec3-a6b2abda4513"
      },
      "outputs": [
        {
          "name": "stdout",
          "output_type": "stream",
          "text": [
            "it tooks 1635 iteration\n",
            "r2_score = 0.9820625946463\n"
          ]
        }
      ],
      "source": [
        "J, counter, y_predicted = Linear_GD(X, y, 0.1, 10000)\n",
        "print(f\"it tooks {counter} iteration\")\n",
        "print(f\"r2_score = {r2_score(y, y_predicted)}\")"
      ]
    },
    {
      "cell_type": "code",
      "execution_count": 61,
      "metadata": {
        "colab": {
          "base_uri": "https://localhost:8080/",
          "height": 295
        },
        "id": "BTB2HTXcWCFp",
        "outputId": "5fd79c27-cb8a-4d01-923c-a109aaa09401"
      },
      "outputs": [
        {
          "data": {
            "image/png": "[encoded data removed]",
            "text/plain": [
              "<Figure size 432x288 with 1 Axes>"
            ]
          },
          "metadata": {
            "needs_background": "light"
          },
          "output_type": "display_data"
        }
      ],
      "source": [
        "plt.plot(J)\n",
        "plt.title('Cost over iterations')\n",
        "plt.ylabel('cost')\n",
        "plt.xlabel('iterations');"
      ]
    },
    {
      "cell_type": "markdown",
      "metadata": {
        "id": "GlEB107dWCFp"
      },
      "source": [
        "#### Polynomial Regression"
      ]
    },
    {
      "cell_type": "code",
      "execution_count": null,
      "metadata": {
        "id": "ugFFFEhNWCFp"
      },
      "outputs": [],
      "source": [
        "from sklearn.preprocessing import PolynomialFeatures\n",
        "poly = PolynomialFeatures(degree=2)\n",
        "X_train_poly = poly.fit_transform(X_train_linear)\n",
        "y_train_poly = poly.fit_transform(y_train)"
      ]
    },
    {
      "cell_type": "code",
      "execution_count": null,
      "metadata": {
        "id": "WDHbNUZCWCFp"
      },
      "outputs": [],
      "source": [
        "X_val_poly = poly.fit_transform(X_val_linear)\n",
        "y_val_poly = poly.fit_transform(y_val)"
      ]
    },
    {
      "cell_type": "code",
      "execution_count": null,
      "metadata": {
        "id": "_3UlUIKLWCFq"
      },
      "outputs": [],
      "source": [
        "poly_reg = LinearRegression().fit(X_train_poly, y_train_poly)"
      ]
    },
    {
      "cell_type": "code",
      "execution_count": null,
      "metadata": {
        "colab": {
          "base_uri": "https://localhost:8080/"
        },
        "id": "a96Y-CnPWCFq",
        "outputId": "0847dd4b-3124-4362-fd92-71e74834e94e"
      },
      "outputs": [
        {
          "data": {
            "text/plain": [
              "0.9924118746919479"
            ]
          },
          "execution_count": 68,
          "metadata": {},
          "output_type": "execute_result"
        }
      ],
      "source": [
        "y_pred_reg_poly = poly_reg.predict(X_train_poly)\n",
        "r2_score(y_train_poly, y_pred_reg_poly)"
      ]
    },
    {
      "cell_type": "code",
      "execution_count": null,
      "metadata": {
        "colab": {
          "base_uri": "https://localhost:8080/"
        },
        "id": "oyV1cbAAWCFq",
        "outputId": "65c63995-7166-4d06-c4de-228cb2d9e994"
      },
      "outputs": [
        {
          "data": {
            "text/plain": [
              "0.9923622719518695"
            ]
          },
          "execution_count": 69,
          "metadata": {},
          "output_type": "execute_result"
        }
      ],
      "source": [
        "y_pred_reg_poly_test = poly_reg.predict(X_val_poly)\n",
        "r2_score(y_val_poly, y_pred_reg_poly_test)"
      ]
    },
    {
      "cell_type": "code",
      "execution_count": null,
      "metadata": {
        "colab": {
          "base_uri": "https://localhost:8080/",
          "height": 266
        },
        "id": "81IQKF2ZWCFq",
        "outputId": "cf775ce9-0ff7-4f4c-921f-878daeaf7cd8"
      },
      "outputs": [
        {
          "data": {
            "image/png": "[encoded data removed]",
            "text/plain": [
              "<Figure size 432x288 with 1 Axes>"
            ]
          },
          "metadata": {
            "needs_background": "light"
          },
          "output_type": "display_data"
        }
      ],
      "source": [
        "plt.scatter(X_val_poly, y_val_poly, color ='b')\n",
        "plt.plot(X_val_poly, y_pred_reg_poly_test, color ='r');"
      ]
    },
    {
      "cell_type": "markdown",
      "metadata": {
        "id": "gLglHC3gWCFq"
      },
      "source": [
        "#### Apply Polynomial Regression with gradient descent"
      ]
    },
    {
      "cell_type": "code",
      "execution_count": null,
      "metadata": {
        "id": "EoTKvjsbWCFq"
      },
      "outputs": [],
      "source": [
        "X = np.array(X_train)\n",
        "y = np.array(y_train)\n",
        "ones = np.ones(len(X))\n",
        "X = np.insert(X, 0, ones, axis=1)"
      ]
    },
    {
      "cell_type": "code",
      "execution_count": null,
      "metadata": {
        "id": "2chMDNYFWCFr"
      },
      "outputs": [],
      "source": [
        "def Poly_GD(X, y, degree, alpha, iterations):\n",
        "\n",
        "    X_degree = X[:, 2:]**degree\n",
        "    X = np.append(X, X_degree, axis=1)\n",
        "\n",
        "    m, n = X.shape\n",
        "    thetas = np.zeros((n, 1))\n",
        "    J = []\n",
        "    counter = 0\n",
        "    old_cost = 0\n",
        "    for _ in range(iterations):\n",
        "        hyp = X @ thetas\n",
        "        error = hyp - y\n",
        "        cost = np.sum((error**2)) / (2 * m)\n",
        "        J.append(cost)\n",
        "        thetas = thetas - (alpha/m) * (X.T @ error)\n",
        "        if abs(old_cost - cost ) < 1e-3:\n",
        "            break\n",
        "        old_cost = cost\n",
        "        counter += 1\n",
        "    y_predicted = X @ thetas\n",
        "    return J, counter, y_predicted"
      ]
    },
    {
      "cell_type": "code",
      "execution_count": null,
      "metadata": {
        "colab": {
          "base_uri": "https://localhost:8080/"
        },
        "id": "N27Yz_8AWCFr",
        "outputId": "6edb7f1a-36ca-43e2-b4ee-ce8af2b01f80"
      },
      "outputs": [
        {
          "name": "stdout",
          "output_type": "stream",
          "text": [
            "253 iteration\n",
            "r2_score = 0.9782284253451188\n"
          ]
        }
      ],
      "source": [
        "J, counter, y_predicted = Poly_GD(X, y, 2, 0.5, 100000)\n",
        "print(f\"{counter} iteration\")\n",
        "print(f\"r2_score = {r2_score(y, y_predicted)}\")"
      ]
    },
    {
      "cell_type": "code",
      "execution_count": null,
      "metadata": {
        "colab": {
          "base_uri": "https://localhost:8080/",
          "height": 295
        },
        "id": "5scuXgLFWCFr",
        "outputId": "bdfb5b84-b1e3-48fa-9b84-8a6f05108a02"
      },
      "outputs": [
        {
          "data": {
            "image/png": "[encoded data removed]",
            "text/plain": [
              "<Figure size 432x288 with 1 Axes>"
            ]
          },
          "metadata": {
            "needs_background": "light"
          },
          "output_type": "display_data"
        }
      ],
      "source": [
        "plt.plot(J)\n",
        "plt.title('Cost over iterations')\n",
        "plt.ylabel('cost')\n",
        "plt.xlabel('iterations');"
      ]
    },
    {
      "cell_type": "markdown",
      "metadata": {
        "id": "5AB0YPBYYJnm"
      },
      "source": [
        "### SVR"
      ]
    },
    {
      "cell_type": "markdown",
      "metadata": {
        "id": "WlZ89OMzXmJT"
      },
      "source": [
        "#### 1 - Linear SVR"
      ]
    },
    {
      "cell_type": "code",
      "execution_count": null,
      "metadata": {
        "id": "1M1DA2oAXrnD"
      },
      "outputs": [],
      "source": [
        "from sklearn.svm import LinearSVR"
      ]
    },
    {
      "cell_type": "code",
      "execution_count": null,
      "metadata": {
        "id": "6N6I-v15ZNox"
      },
      "outputs": [],
      "source": [
        "linear_svr = LinearSVR(tol=1e-7, C=0.5).fit(X_train, y_train)"
      ]
    },
    {
      "cell_type": "code",
      "execution_count": null,
      "metadata": {
        "colab": {
          "base_uri": "https://localhost:8080/"
        },
        "id": "8l2bjQxKZ1NQ",
        "outputId": "963b0786-3de0-4f08-81e6-2b371131bc4b"
      },
      "outputs": [
        {
          "data": {
            "text/plain": [
              "0.9891619042919753"
            ]
          },
          "execution_count": 79,
          "metadata": {},
          "output_type": "execute_result"
        }
      ],
      "source": [
        "y_preds_linear_train = linear_svr.predict(X_train)\n",
        "r2_score(y_train, y_preds_linear_train)"
      ]
    },
    {
      "cell_type": "code",
      "execution_count": null,
      "metadata": {
        "colab": {
          "base_uri": "https://localhost:8080/"
        },
        "id": "Aq0yZfGOaWuo",
        "outputId": "e3920a30-51ad-471b-9196-913161fbcaca"
      },
      "outputs": [
        {
          "data": {
            "text/plain": [
              "0.9801078003724988"
            ]
          },
          "execution_count": 80,
          "metadata": {},
          "output_type": "execute_result"
        }
      ],
      "source": [
        "y_preds_linear_test = linear_svr.predict(X_val)\n",
        "r2_score(y_val, y_preds_linear_test)"
      ]
    },
    {
      "cell_type": "markdown",
      "metadata": {
        "id": "OihcFdxoatvn"
      },
      "source": [
        "#### 2 - SVR with Linear Kernel"
      ]
    },
    {
      "cell_type": "code",
      "execution_count": 65,
      "metadata": {
        "id": "oAoZqkUBYJnm"
      },
      "outputs": [],
      "source": [
        "from sklearn.svm import SVR"
      ]
    },
    {
      "cell_type": "code",
      "execution_count": null,
      "metadata": {
        "id": "JU0xow4CXydD"
      },
      "outputs": [],
      "source": [
        "svr_model_linear = SVR(kernel='linear', C=0.5, epsilon=1e-7).fit(X_train, y_train)"
      ]
    },
    {
      "cell_type": "code",
      "execution_count": null,
      "metadata": {
        "colab": {
          "base_uri": "https://localhost:8080/"
        },
        "id": "B-x-kp6jYJnn",
        "outputId": "46672f26-7cd5-4dea-d43a-4aa834e957fc"
      },
      "outputs": [
        {
          "data": {
            "text/plain": [
              "0.9891506074533059"
            ]
          },
          "execution_count": 83,
          "metadata": {},
          "output_type": "execute_result"
        }
      ],
      "source": [
        "y_pred_svr = svr_model_linear.predict(X_train)\n",
        "r2_score(y_train, y_pred_svr)"
      ]
    },
    {
      "cell_type": "code",
      "execution_count": null,
      "metadata": {
        "colab": {
          "base_uri": "https://localhost:8080/"
        },
        "id": "XaDbMVRFYJnn",
        "outputId": "37790db0-2c47-430f-bac3-a14256a98cbd"
      },
      "outputs": [
        {
          "data": {
            "text/plain": [
              "0.979452329367485"
            ]
          },
          "execution_count": 84,
          "metadata": {},
          "output_type": "execute_result"
        }
      ],
      "source": [
        "y_pred_svr_test = svr_model_linear.predict(X_val)\n",
        "r2_score(y_val, y_pred_svr_test)"
      ]
    },
    {
      "cell_type": "markdown",
      "metadata": {
        "id": "gDu_Dp-ZcNnA"
      },
      "source": [
        "#### 3 - SVR with rbf Kernel"
      ]
    },
    {
      "cell_type": "code",
      "execution_count": null,
      "metadata": {
        "id": "tdBX8fTqYtdX"
      },
      "outputs": [],
      "source": [
        "svr_model_rbf = SVR(kernel='rbf', C=0.5, tol=1e-7).fit(X_train, y_train)"
      ]
    },
    {
      "cell_type": "code",
      "execution_count": null,
      "metadata": {
        "colab": {
          "base_uri": "https://localhost:8080/"
        },
        "id": "S1teaiPTYzIj",
        "outputId": "2269d66a-d9ed-4261-cb32-89b6a0ea60d6"
      },
      "outputs": [
        {
          "data": {
            "text/plain": [
              "0.9967216920493576"
            ]
          },
          "execution_count": 86,
          "metadata": {},
          "output_type": "execute_result"
        }
      ],
      "source": [
        "y_pred_svr = svr_model_rbf.predict(X_train)\n",
        "r2_score(y_train, y_pred_svr)"
      ]
    },
    {
      "cell_type": "code",
      "execution_count": null,
      "metadata": {
        "colab": {
          "base_uri": "https://localhost:8080/"
        },
        "id": "c9ai6AemY0sM",
        "outputId": "bb7c86d5-10bb-40ce-a3c8-c63f3ba8635d"
      },
      "outputs": [
        {
          "data": {
            "text/plain": [
              "0.9759048112165408"
            ]
          },
          "execution_count": 87,
          "metadata": {},
          "output_type": "execute_result"
        }
      ],
      "source": [
        "y_pred_svr_test = svr_model_rbf.predict(X_val)\n",
        "r2_score(y_val, y_pred_svr_test)"
      ]
    },
    {
      "cell_type": "markdown",
      "metadata": {
        "id": "fRxSoPw7eX7m"
      },
      "source": [
        "#### 4 - SVR with poly Kernel"
      ]
    },
    {
      "cell_type": "code",
      "execution_count": 70,
      "metadata": {
        "id": "EPR-5y3AqnYZ"
      },
      "outputs": [],
      "source": [
        "svr_model_poly = SVR(kernel='poly', degree=2).fit(X_train_linear, y_train)"
      ]
    },
    {
      "cell_type": "code",
      "execution_count": 71,
      "metadata": {
        "colab": {
          "base_uri": "https://localhost:8080/"
        },
        "id": "hvu3IUFCqpBB",
        "outputId": "8b544020-5a0a-4251-b6c8-66f9f7e962e4"
      },
      "outputs": [
        {
          "data": {
            "text/plain": [
              "0.9325091855036212"
            ]
          },
          "execution_count": 71,
          "metadata": {},
          "output_type": "execute_result"
        }
      ],
      "source": [
        "y_pred_svr = svr_model_poly.predict(X_train_linear)\n",
        "r2_score(y_train, y_pred_svr)"
      ]
    },
    {
      "cell_type": "code",
      "execution_count": 72,
      "metadata": {
        "colab": {
          "base_uri": "https://localhost:8080/"
        },
        "id": "0YXXdJuwqqcB",
        "outputId": "4026fe89-30aa-45c4-d0a9-d35efc2fa13e"
      },
      "outputs": [
        {
          "data": {
            "text/plain": [
              "0.9320898236665358"
            ]
          },
          "execution_count": 72,
          "metadata": {},
          "output_type": "execute_result"
        }
      ],
      "source": [
        "y_pred_svr_test = svr_model_poly.predict(X_val_linear)\n",
        "r2_score(y_val, y_pred_svr_test)"
      ]
    },
    {
      "cell_type": "code",
      "execution_count": null,
      "metadata": {
        "id": "qkSZV_Uh1amO"
      },
      "outputs": [],
      "source": []
    }
  ],
  "metadata": {
    "accelerator": "GPU",
    "colab": {
      "collapsed_sections": [],
      "name": "Weather_Predictions.ipynb",
      "provenance": []
    },
    "interpreter": {
      "hash": "fa460933377caf4b48728792a61b1487190f68b82f2216ea68779e2cc0179ac7"
    },
    "kernelspec": {
      "display_name": "Python 3.7.1 64-bit",
      "language": "python",
      "name": "python3"
    },
    "language_info": {
      "codemirror_mode": {
        "name": "ipython",
        "version": 3
      },
      "file_extension": ".py",
      "mimetype": "text/x-python",
      "name": "python",
      "nbconvert_exporter": "python",
      "pygments_lexer": "ipython3",
      "version": "3.7.1"
    },
    "orig_nbformat": 4
  },
  "nbformat": 4,
  "nbformat_minor": 0
}
